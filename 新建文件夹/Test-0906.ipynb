{
 "cells": [
  {
   "cell_type": "code",
   "execution_count": 43,
   "metadata": {
    "collapsed": true,
    "pycharm": {
     "name": "#%%\n"
    }
   },
   "outputs": [
    {
     "name": "stdout",
     "output_type": "stream",
     "text": [
      "The autoreload extension is already loaded. To reload it, use:\n",
      "  %reload_ext autoreload\n"
     ]
    }
   ],
   "source": [
    "%load_ext autoreload\n",
    "%autoreload 2\n",
    "import numpy as np\n",
    "from sklearn.decomposition import PCA\n",
    "from sklearn.manifold import TSNE\n",
    "from sklearn import cluster, datasets\n",
    "from Utils.transferFunc import *"
   ]
  },
  {
   "cell_type": "code",
   "execution_count": 29,
   "outputs": [],
   "source": [
    "src, tar = 'caltech_surf_10.mat', 'amazon_surf_10.mat'\n",
    "src_domain, tar_domain = scipy.io.loadmat(src), scipy.io.loadmat(tar)\n",
    "Xs, Ys, Xt, Yt = src_domain['feas'], src_domain['label'], tar_domain['feas'], tar_domain['label']"
   ],
   "metadata": {
    "collapsed": false,
    "pycharm": {
     "name": "#%%\n"
    }
   }
  },
  {
   "cell_type": "code",
   "execution_count": 11,
   "outputs": [
    {
     "name": "stdout",
     "output_type": "stream",
     "text": [
      "The accuracy of TCA is: 0.4562\n"
     ]
    }
   ],
   "source": [
    "tca = TCA(kernel_type='linear', dim=30, lamb=1, gamma=1)\n",
    "acc, ypre = tca.fit_predict(Xs, Ys, Xt, Yt)\n",
    "print(f'The accuracy of TCA is: {acc:.4f}')"
   ],
   "metadata": {
    "collapsed": false,
    "pycharm": {
     "name": "#%%\n"
    }
   }
  },
  {
   "cell_type": "code",
   "execution_count": 14,
   "outputs": [
    {
     "name": "stdout",
     "output_type": "stream",
     "text": [
      "The accuracy of TCA is: 0.2370\n",
      "0.23695198329853862\n"
     ]
    }
   ],
   "source": [
    "pca = PCA(n_components=30)\n",
    "Xs_pca = pca.fit_transform(Xs)\n",
    "Xt_pca = pca.fit_transform(Xt)\n",
    "acc, ypre = tca.fit_predict(Xs_pca, Ys, Xt_pca, Yt)\n",
    "print(f'The accuracy of TCA is: {acc:.4f}')\n",
    "print(acc)"
   ],
   "metadata": {
    "collapsed": false,
    "pycharm": {
     "name": "#%%\n"
    }
   }
  },
  {
   "cell_type": "code",
   "execution_count": 38,
   "outputs": [],
   "source": [
    "data = scipy.io.loadmat('./dataset/synthetic/clusters/blobCluster.mat')\n",
    "Xs, Ys, Xt, Yt = data['Xs'], data['Ys'], data['Xt'], data['Yt']"
   ],
   "metadata": {
    "collapsed": false,
    "pycharm": {
     "name": "#%%\n"
    }
   }
  },
  {
   "cell_type": "code",
   "execution_count": 37,
   "outputs": [
    {
     "name": "stdout",
     "output_type": "stream",
     "text": [
      "The accuracy of TCA is: 0.0000\n"
     ]
    }
   ],
   "source": [
    "tca = TCA(kernel_type='linear', dim=2, lamb=1, gamma=1)\n",
    "acc, ypre = tca.fit_predict(Xs, Ys, Xt, Yt)\n",
    "print(f'The accuracy of TCA is: {acc:.4f}')"
   ],
   "metadata": {
    "collapsed": false,
    "pycharm": {
     "name": "#%%\n"
    }
   }
  },
  {
   "cell_type": "code",
   "execution_count": 44,
   "outputs": [],
   "source": [
    "n_samples = 500\n",
    "blobs = datasets.make_blobs(n_samples=n_samples,n_features=5 , random_state=8)\n",
    "blobs1 = datasets.make_blobs(n_samples=n_samples,n_features=5 , random_state=3)\n",
    "Xs, Ys, Xt, Yt = blobs[0], blobs[1], blobs1[0], blobs[1]"
   ],
   "metadata": {
    "collapsed": false,
    "pycharm": {
     "name": "#%%\n"
    }
   }
  },
  {
   "cell_type": "code",
   "execution_count": 47,
   "outputs": [
    {
     "name": "stdout",
     "output_type": "stream",
     "text": [
      "The accuracy of TCA is: 0.3300\n"
     ]
    }
   ],
   "source": [
    "tca = TCA(kernel_type='linear', dim=2, lamb=1, gamma=1)\n",
    "acc, ypre = tca.fit_predict(Xs, Ys, Xt, Yt)\n",
    "print(f'The accuracy of TCA is: {acc:.4f}')"
   ],
   "metadata": {
    "collapsed": false,
    "pycharm": {
     "name": "#%%\n"
    }
   }
  },
  {
   "cell_type": "code",
   "execution_count": 48,
   "outputs": [
    {
     "data": {
      "text/plain": "array([0, 2, 2, 0, 1, 0, 1, 2, 2, 2, 2, 2, 2, 2, 0, 1, 1, 1, 2, 0, 1, 0,\n       2, 0, 2, 0, 1, 1, 1, 2, 2, 0, 2, 0, 0, 1, 0, 1, 2, 2, 2, 0, 2, 2,\n       2, 2, 2, 2, 2, 0, 1, 1, 1, 1, 2, 2, 1, 0, 1, 0, 1, 1, 1, 0, 0, 0,\n       2, 1, 1, 0, 2, 0, 2, 1, 0, 0, 0, 1, 0, 0, 1, 0, 2, 2, 2, 1, 2, 2,\n       1, 1, 1, 1, 2, 0, 0, 1, 0, 1, 0, 1, 0, 0, 1, 2, 0, 0, 1, 1, 2, 1,\n       0, 0, 0, 1, 0, 1, 2, 2, 1, 1, 0, 0, 1, 2, 1, 0, 1, 0, 1, 0, 0, 2,\n       0, 0, 1, 0, 2, 0, 2, 2, 1, 1, 0, 0, 1, 1, 1, 1, 1, 1, 1, 2, 1, 0,\n       2, 1, 0, 1, 2, 2, 0, 2, 0, 1, 0, 0, 0, 0, 0, 2, 1, 1, 0, 0, 2, 0,\n       0, 2, 2, 2, 0, 1, 0, 0, 1, 2, 2, 2, 0, 2, 1, 2, 1, 0, 1, 0, 2, 2,\n       2, 2, 2, 0, 0, 0, 2, 1, 1, 2, 2, 2, 1, 1, 2, 2, 1, 2, 1, 2, 0, 2,\n       2, 0, 1, 1, 0, 0, 0, 0, 0, 1, 2, 0, 2, 0, 2, 1, 0, 0, 2, 1, 0, 0,\n       1, 1, 1, 2, 1, 2, 2, 1, 2, 2, 0, 1, 1, 1, 0, 1, 2, 0, 2, 2, 2, 1,\n       2, 1, 2, 2, 2, 1, 1, 0, 1, 2, 2, 0, 2, 0, 0, 2, 2, 1, 0, 1, 1, 1,\n       1, 1, 1, 2, 2, 0, 1, 1, 2, 1, 0, 1, 1, 1, 2, 2, 0, 1, 0, 0, 0, 2,\n       2, 2, 0, 0, 1, 0, 2, 0, 1, 2, 1, 2, 2, 0, 1, 2, 2, 0, 1, 0, 2, 0,\n       0, 1, 1, 0, 2, 2, 1, 0, 1, 0, 1, 2, 1, 0, 1, 2, 1, 1, 1, 1, 1, 1,\n       2, 2, 0, 1, 2, 0, 0, 1, 1, 0, 0, 0, 2, 0, 0, 1, 2, 0, 2, 1, 2, 1,\n       0, 0, 2, 0, 2, 0, 2, 0, 2, 0, 1, 0, 2, 0, 0, 1, 1, 2, 0, 0, 2, 0,\n       1, 2, 2, 2, 2, 2, 1, 0, 1, 2, 1, 1, 1, 2, 0, 0, 2, 0, 0, 0, 0, 2,\n       0, 0, 1, 2, 2, 0, 2, 1, 1, 2, 1, 0, 2, 2, 0, 1, 2, 2, 2, 0, 2, 2,\n       1, 0, 0, 2, 0, 1, 2, 2, 1, 1, 1, 1, 2, 2, 0, 1, 2, 0, 1, 1, 1, 0,\n       2, 1, 2, 0, 2, 1, 1, 2, 0, 1, 0, 0, 1, 2, 2, 2, 2, 0, 1, 2, 2, 1,\n       0, 0, 0, 1, 0, 1, 0, 0, 1, 0, 1, 1, 2, 1, 0, 0])"
     },
     "execution_count": 48,
     "metadata": {},
     "output_type": "execute_result"
    }
   ],
   "source": [
    "ypre"
   ],
   "metadata": {
    "collapsed": false,
    "pycharm": {
     "name": "#%%\n"
    }
   }
  },
  {
   "cell_type": "code",
   "execution_count": 49,
   "outputs": [
    {
     "data": {
      "text/plain": "array([2, 2, 0, 0, 0, 1, 0, 0, 0, 2, 1, 2, 1, 2, 1, 0, 1, 1, 2, 2, 2, 0,\n       2, 0, 1, 0, 1, 0, 1, 2, 2, 1, 0, 2, 0, 2, 0, 1, 1, 2, 0, 1, 1, 1,\n       0, 0, 2, 1, 2, 2, 1, 1, 2, 2, 1, 1, 2, 2, 0, 2, 2, 0, 0, 1, 2, 1,\n       2, 0, 1, 2, 0, 0, 2, 0, 0, 0, 1, 0, 0, 1, 0, 2, 2, 1, 1, 1, 1, 0,\n       0, 0, 0, 1, 2, 2, 1, 2, 0, 1, 0, 1, 0, 2, 2, 1, 0, 1, 1, 2, 1, 0,\n       1, 2, 0, 0, 0, 2, 0, 0, 1, 1, 0, 1, 1, 1, 0, 1, 2, 0, 2, 0, 0, 1,\n       1, 2, 0, 2, 1, 0, 2, 0, 2, 1, 1, 2, 2, 1, 2, 0, 1, 1, 2, 0, 0, 1,\n       2, 1, 0, 2, 0, 0, 1, 0, 1, 0, 1, 2, 0, 0, 2, 1, 1, 2, 1, 1, 1, 1,\n       0, 2, 0, 2, 2, 1, 2, 1, 2, 0, 2, 1, 1, 1, 2, 2, 1, 1, 1, 0, 0, 0,\n       1, 1, 2, 2, 0, 1, 1, 2, 1, 0, 1, 0, 0, 2, 0, 2, 0, 2, 1, 0, 2, 0,\n       2, 1, 2, 1, 2, 2, 0, 0, 2, 1, 2, 2, 0, 1, 1, 1, 2, 2, 2, 1, 0, 0,\n       2, 2, 1, 1, 2, 2, 2, 0, 2, 1, 0, 0, 1, 1, 0, 2, 0, 0, 2, 2, 2, 0,\n       1, 2, 0, 0, 1, 1, 0, 1, 1, 0, 0, 0, 2, 0, 1, 0, 0, 2, 2, 0, 1, 1,\n       0, 0, 2, 0, 2, 2, 2, 1, 0, 0, 2, 1, 0, 2, 2, 2, 2, 2, 2, 2, 0, 1,\n       0, 0, 1, 0, 1, 2, 2, 0, 2, 1, 2, 1, 0, 2, 1, 0, 1, 0, 0, 1, 2, 0,\n       2, 1, 1, 0, 1, 1, 2, 2, 1, 1, 0, 0, 1, 1, 2, 2, 1, 2, 2, 0, 2, 2,\n       1, 1, 1, 1, 2, 0, 1, 0, 2, 0, 2, 2, 0, 1, 2, 0, 1, 2, 0, 2, 0, 1,\n       0, 1, 0, 2, 2, 0, 2, 1, 0, 2, 2, 1, 0, 2, 0, 0, 1, 2, 1, 2, 2, 2,\n       0, 1, 0, 0, 1, 0, 2, 2, 0, 1, 2, 2, 2, 1, 1, 1, 2, 0, 1, 0, 2, 1,\n       1, 2, 0, 0, 2, 0, 0, 2, 2, 0, 1, 1, 0, 1, 0, 2, 0, 1, 0, 1, 0, 2,\n       0, 1, 1, 0, 0, 0, 0, 1, 0, 1, 1, 1, 1, 0, 1, 2, 2, 1, 0, 1, 2, 2,\n       0, 2, 1, 1, 2, 2, 2, 1, 2, 0, 1, 2, 2, 0, 1, 1, 0, 0, 2, 2, 1, 2,\n       2, 0, 1, 0, 0, 2, 1, 0, 1, 1, 1, 0, 0, 1, 2, 2])"
     },
     "execution_count": 49,
     "metadata": {},
     "output_type": "execute_result"
    }
   ],
   "source": [
    "Yt"
   ],
   "metadata": {
    "collapsed": false,
    "pycharm": {
     "name": "#%%\n"
    }
   }
  },
  {
   "cell_type": "code",
   "execution_count": null,
   "outputs": [],
   "source": [],
   "metadata": {
    "collapsed": false,
    "pycharm": {
     "name": "#%%\n"
    }
   }
  }
 ],
 "metadata": {
  "kernelspec": {
   "display_name": "Python 3",
   "language": "python",
   "name": "python3"
  },
  "language_info": {
   "codemirror_mode": {
    "name": "ipython",
    "version": 2
   },
   "file_extension": ".py",
   "mimetype": "text/x-python",
   "name": "python",
   "nbconvert_exporter": "python",
   "pygments_lexer": "ipython2",
   "version": "2.7.6"
  }
 },
 "nbformat": 4,
 "nbformat_minor": 0
}