{
 "cells": [
  {
   "cell_type": "code",
   "execution_count": 218,
   "outputs": [],
   "source": [
    "import pandas as pd\n",
    "import numpy as np\n",
    "import scipy.io\n",
    "import scipy.linalg\n",
    "import sklearn.metrics\n",
    "from sklearn.neighbors import KNeighborsClassifier\n",
    "from sklearn.decomposition import PCA\n",
    "from sklearn.manifold import TSNE\n",
    "import matplotlib.pyplot as plt\n",
    "\n",
    "def kernel(ker, X1, X2, gamma):\n",
    "    K = None\n",
    "    if not ker or ker == 'primal':\n",
    "        K = X1\n",
    "    elif ker == 'linear':\n",
    "        if X2 is not None:\n",
    "            K = sklearn.metrics.pairwise.linear_kernel(np.asarray(X1).T, np.asarray(X2).T)\n",
    "        else:\n",
    "            K = sklearn.metrics.pairwise.linear_kernel(np.asarray(X1).T)\n",
    "    elif ker == 'rbf':\n",
    "        if X2 is not None:\n",
    "            K = sklearn.metrics.pairwise.rbf_kernel(np.asarray(X1).T, np.asarray(X2).T, gamma)\n",
    "        else:\n",
    "            K = sklearn.metrics.pairwise.rbf_kernel(np.asarray(X1).T, None, gamma)\n",
    "    return K\n",
    "\n",
    "class TCA:\n",
    "    def __init__(self, kernel_type='primal', dim=30, lamb=1, gamma=1):\n",
    "        '''\n",
    "        Init func\n",
    "        :param kernel_type: kernel, values: 'primal' | 'linear' | 'rbf'\n",
    "        :param dim: dimension after transfer\n",
    "        :param lamb: lambda value in equation\n",
    "        :param gamma: kernel bandwidth for rbf kernel\n",
    "        '''\n",
    "        self.kernel_type = kernel_type\n",
    "        self.dim = dim\n",
    "        self.lamb = lamb\n",
    "        self.gamma = gamma\n",
    "\n",
    "    def fit(self, Xs, Xt):\n",
    "        '''\n",
    "        Transform Xs and Xt\n",
    "        :param Xs: ns * n_feature, source feature\n",
    "        :param Xt: nt * n_feature, target feature\n",
    "        :return: Xs_new and Xt_new after TCA\n",
    "        '''\n",
    "        X = np.hstack((Xs.T, Xt.T))\n",
    "        eps = np.finfo(float).eps\n",
    "        a = np.linalg.norm(X, axis=0)\n",
    "        a = np.maximum(a, eps)\n",
    "        X /= a\n",
    "        m, n = X.shape\n",
    "        ns, nt = len(Xs), len(Xt)\n",
    "        e = np.vstack((1 / ns * np.ones((ns, 1)), -1 / nt * np.ones((nt, 1))))\n",
    "        M = e * e.T\n",
    "        M = M / np.linalg.norm(M, 'fro')\n",
    "        H = np.eye(n) - 1 / n * np.ones((n, n))\n",
    "        K = kernel(self.kernel_type, X, None, gamma=self.gamma)\n",
    "        n_eye = m if self.kernel_type == 'primal' else n\n",
    "        a, b = np.linalg.multi_dot([K, M, K.T]) + self.lamb * np.eye(n_eye), np.linalg.multi_dot([K, H, K.T])\n",
    "        w, V = scipy.linalg.eig(a, b)\n",
    "        w = w.real\n",
    "        V = V.real\n",
    "        ind = np.argsort(w)\n",
    "        A = V[:, ind[:self.dim]]\n",
    "        Z = np.dot(A.T, K)\n",
    "        b = np.linalg.norm(Z, axis=0)\n",
    "        b = np.maximum(b, eps)\n",
    "        Z /= b\n",
    "        Xs_new, Xt_new = Z[:, :ns].T, Z[:, ns:].T\n",
    "        return Xs_new, Xt_new\n",
    "\n",
    "    def fit_predict(self, Xs, Ys, Xt, Yt):\n",
    "        '''\n",
    "        Transform Xs and Xt, then make predictions on target using 1NN\n",
    "        :param Xs: ns * n_feature, source feature\n",
    "        :param Ys: ns * 1, source label\n",
    "        :param Xt: nt * n_feature, target feature\n",
    "        :param Yt: nt * 1, target label\n",
    "        :return: Accuracy and predicted_labels on the target domain\n",
    "        '''\n",
    "        Xs_new, Xt_new = self.fit(Xs, Xt)\n",
    "        clf = KNeighborsClassifier(n_neighbors=1)\n",
    "        clf.fit(Xs_new, Ys.ravel())\n",
    "        y_pred = clf.predict(Xt_new)\n",
    "        acc = sklearn.metrics.accuracy_score(Yt, y_pred)\n",
    "        return acc, y_pred, Xs_new, Xt_new\n",
    "\n",
    "class BDA:\n",
    "    def __init__(self, kernel_type='primal', dim=30, lamb=1, mu=0.5, gamma=1, T=10, mode='BDA', estimate_mu=False):\n",
    "        '''\n",
    "        Init func\n",
    "        :param kernel_type: kernel, values: 'primal' | 'linear' | 'rbf'\n",
    "        :param dim: dimension after transfer\n",
    "        :param lamb: lambda value in equation\n",
    "        :param mu: mu. Default is -1, if not specificied, it calculates using A-distance\n",
    "        :param gamma: kernel bandwidth for rbf kernel\n",
    "        :param T: iteration number\n",
    "        :param mode: 'BDA' | 'WBDA'\n",
    "        :param estimate_mu: True | False, if you want to automatically estimate mu instead of manally set it\n",
    "        '''\n",
    "        self.kernel_type = kernel_type\n",
    "        self.dim = dim\n",
    "        self.lamb = lamb\n",
    "        self.mu = mu\n",
    "        self.gamma = gamma\n",
    "        self.T = T\n",
    "        self.mode = mode\n",
    "        self.estimate_mu = estimate_mu\n",
    "\n",
    "    def fit_predict(self, Xs, Ys, Xt, Yt):\n",
    "        '''\n",
    "        Transform and Predict using 1NN as JDA paper did\n",
    "        :param Xs: ns * n_feature, source feature\n",
    "        :param Ys: ns * 1, source label\n",
    "        :param Xt: nt * n_feature, target feature\n",
    "        :param Yt: nt * 1, target label\n",
    "        :return: acc, y_pred, list_acc\n",
    "        '''\n",
    "        list_acc = []\n",
    "        X = np.hstack((Xs.T, Xt.T))\n",
    "        X /= np.linalg.norm(X, axis=0)\n",
    "        m, n = X.shape\n",
    "        ns, nt = len(Xs), len(Xt)\n",
    "        e = np.vstack((1 / ns * np.ones((ns, 1)), -1 / nt * np.ones((nt, 1))))\n",
    "        C = len(np.unique(Ys))\n",
    "        H = np.eye(n) - 1 / n * np.ones((n, n))\n",
    "        mu = self.mu\n",
    "        M = 0\n",
    "        Y_tar_pseudo = None\n",
    "        Xs_new = None\n",
    "        for t in range(self.T):\n",
    "            N = 0\n",
    "            M0 = e * e.T * C\n",
    "            if Y_tar_pseudo is not None and len(Y_tar_pseudo) == nt:\n",
    "                for c in range(0, C):\n",
    "                    e = np.zeros((n, 1))\n",
    "                    Ns = len(Ys[np.where(Ys == c)])\n",
    "                    Nt = len(Y_tar_pseudo[np.where(Y_tar_pseudo == c)])\n",
    "\n",
    "                    if self.mode == 'WBDA':\n",
    "                        Ps = Ns / len(Ys)\n",
    "                        Pt = Nt / len(Y_tar_pseudo)\n",
    "                        alpha = Pt / Ps\n",
    "                        mu = 1\n",
    "                    else:\n",
    "                        alpha = 1\n",
    "\n",
    "                    tt = Ys == c\n",
    "                    e[np.where(tt == True)] = 1 / Ns\n",
    "                    yy = Y_tar_pseudo == c\n",
    "                    ind = np.where(yy == True)\n",
    "                    inds = [item + ns for item in ind]\n",
    "                    e[tuple(inds)] = -alpha / Nt\n",
    "                    e[np.isinf(e)] = 0\n",
    "                    N = N + np.dot(e, e.T)\n",
    "\n",
    "            # In BDA, mu can be set or automatically estimated using A-distance\n",
    "            # In WBDA, we find that setting mu=1 is enough\n",
    "            if self.estimate_mu and self.mode == 'BDA':\n",
    "                if Xs_new is not None:\n",
    "                    mu = estimate_mu(Xs_new, Ys, Xt_new, Y_tar_pseudo)\n",
    "                else:\n",
    "                    mu = 0\n",
    "            M = (1 - mu) * M0 + mu * N\n",
    "            M /= np.linalg.norm(M, 'fro')\n",
    "            K = kernel(self.kernel_type, X, None, gamma=self.gamma)\n",
    "            n_eye = m if self.kernel_type == 'primal' else n\n",
    "            a, b = np.linalg.multi_dot(\n",
    "                [K, M, K.T]) + self.lamb * np.eye(n_eye), np.linalg.multi_dot([K, H, K.T])\n",
    "            w, V = scipy.linalg.eig(a, b)\n",
    "            w = w.real\n",
    "            V = V.real\n",
    "            ind = np.argsort(w)\n",
    "            A = V[:, ind[:self.dim]]\n",
    "            Z = np.dot(A.T, K)\n",
    "            Z /= np.linalg.norm(Z, axis=0)\n",
    "            Xs_new, Xt_new = Z[:, :ns].T, Z[:, ns:].T\n",
    "\n",
    "            clf = sklearn.neighbors.KNeighborsClassifier(n_neighbors=1)\n",
    "            clf.fit(Xs_new, Ys.ravel())\n",
    "            Y_tar_pseudo = clf.predict(Xt_new)\n",
    "            acc = sklearn.metrics.accuracy_score(Yt, Y_tar_pseudo)\n",
    "            list_acc.append(acc)\n",
    "            print('{} iteration [{}/{}]: Acc: {:.4f}'.format(self.mode, t + 1, self.T, acc))\n",
    "        return acc, Y_tar_pseudo, list_acc"
   ],
   "metadata": {
    "collapsed": false,
    "pycharm": {
     "name": "#%%\n"
    }
   }
  },
  {
   "cell_type": "markdown",
   "source": [
    "dataset-archive: Child and Infant Mortality from Kaggle"
   ],
   "metadata": {
    "collapsed": false,
    "pycharm": {
     "name": "#%% md\n"
    }
   }
  },
  {
   "cell_type": "code",
   "execution_count": 96,
   "metadata": {
    "collapsed": true,
    "pycharm": {
     "name": "#%%\n"
    }
   },
   "outputs": [],
   "source": [
    "filename = './dataset/archive/child-deaths-by-age.csv'\n",
    "data = pd.read_csv(filename, dtype={'Deaths - All causes - Sex: Both - Age: 0-6 days (Number)':float,'Deaths - All causes - Sex: Both - Age: 7-27 days (Number)':float,'Deaths - All causes - Sex: Both - Age: 28-364 days (Number)':float,'Deaths - All causes - Sex: Both - Age: 1-4 years (Number)':float})"
   ]
  },
  {
   "cell_type": "code",
   "execution_count": 97,
   "outputs": [
    {
     "data": {
      "text/plain": "                              Entity Code  Year  \\\n0                        Afghanistan  AFG  1990   \n30              African Region (WHO)  NaN  1990   \n60                           Albania  ALB  1990   \n90                           Algeria  DZA  1990   \n120                   American Samoa  ASM  1990   \n...                              ...  ...   ...   \n6690  World Bank Lower Middle Income  NaN  1990   \n6720  World Bank Upper Middle Income  NaN  1990   \n6750                           Yemen  YEM  1990   \n6780                          Zambia  ZMB  1990   \n6810                        Zimbabwe  ZWE  1990   \n\n      Deaths - All causes - Sex: Both - Age: 7-27 days (Number)  \\\n0                                                9869.0           \n30                                             291227.0           \n60                                                208.0           \n90                                               6461.0           \n120                                                 3.0           \n...                                                 ...           \n6690                                           798461.0           \n6720                                           230409.0           \n6750                                             8883.0           \n6780                                             4798.0           \n6810                                             2277.0           \n\n      Deaths - All causes - Sex: Both - Age: 1-4 years (Number)  \\\n0                                               21812.0           \n30                                            1578366.0           \n60                                                849.0           \n90                                               6742.0           \n120                                                 6.0           \n...                                                 ...           \n6690                                          2235186.0           \n6720                                           532908.0           \n6750                                            21986.0           \n6780                                            25781.0           \n6810                                             8182.0           \n\n      Deaths - All causes - Sex: Both - Age: 0-6 days (Number)  \\\n0                                               15560.0          \n30                                             679377.0          \n60                                                989.0          \n90                                              13487.0          \n120                                                11.0          \n...                                                 ...          \n6690                                          1894469.0          \n6720                                           600957.0          \n6750                                            19544.0          \n6780                                             7980.0          \n6810                                             6717.0          \n\n      Deaths - All causes - Sex: Both - Age: 28-364 days (Number)  \n0                                               30929.0            \n30                                            1162478.0            \n60                                               1524.0            \n90                                              19201.0            \n120                                                 8.0            \n...                                                 ...            \n6690                                          1873668.0            \n6720                                          1056488.0            \n6750                                            36883.0            \n6780                                            22240.0            \n6810                                             9153.0            \n\n[228 rows x 7 columns]",
      "text/html": "<div>\n<style scoped>\n    .dataframe tbody tr th:only-of-type {\n        vertical-align: middle;\n    }\n\n    .dataframe tbody tr th {\n        vertical-align: top;\n    }\n\n    .dataframe thead th {\n        text-align: right;\n    }\n</style>\n<table border=\"1\" class=\"dataframe\">\n  <thead>\n    <tr style=\"text-align: right;\">\n      <th></th>\n      <th>Entity</th>\n      <th>Code</th>\n      <th>Year</th>\n      <th>Deaths - All causes - Sex: Both - Age: 7-27 days (Number)</th>\n      <th>Deaths - All causes - Sex: Both - Age: 1-4 years (Number)</th>\n      <th>Deaths - All causes - Sex: Both - Age: 0-6 days (Number)</th>\n      <th>Deaths - All causes - Sex: Both - Age: 28-364 days (Number)</th>\n    </tr>\n  </thead>\n  <tbody>\n    <tr>\n      <th>0</th>\n      <td>Afghanistan</td>\n      <td>AFG</td>\n      <td>1990</td>\n      <td>9869.0</td>\n      <td>21812.0</td>\n      <td>15560.0</td>\n      <td>30929.0</td>\n    </tr>\n    <tr>\n      <th>30</th>\n      <td>African Region (WHO)</td>\n      <td>NaN</td>\n      <td>1990</td>\n      <td>291227.0</td>\n      <td>1578366.0</td>\n      <td>679377.0</td>\n      <td>1162478.0</td>\n    </tr>\n    <tr>\n      <th>60</th>\n      <td>Albania</td>\n      <td>ALB</td>\n      <td>1990</td>\n      <td>208.0</td>\n      <td>849.0</td>\n      <td>989.0</td>\n      <td>1524.0</td>\n    </tr>\n    <tr>\n      <th>90</th>\n      <td>Algeria</td>\n      <td>DZA</td>\n      <td>1990</td>\n      <td>6461.0</td>\n      <td>6742.0</td>\n      <td>13487.0</td>\n      <td>19201.0</td>\n    </tr>\n    <tr>\n      <th>120</th>\n      <td>American Samoa</td>\n      <td>ASM</td>\n      <td>1990</td>\n      <td>3.0</td>\n      <td>6.0</td>\n      <td>11.0</td>\n      <td>8.0</td>\n    </tr>\n    <tr>\n      <th>...</th>\n      <td>...</td>\n      <td>...</td>\n      <td>...</td>\n      <td>...</td>\n      <td>...</td>\n      <td>...</td>\n      <td>...</td>\n    </tr>\n    <tr>\n      <th>6690</th>\n      <td>World Bank Lower Middle Income</td>\n      <td>NaN</td>\n      <td>1990</td>\n      <td>798461.0</td>\n      <td>2235186.0</td>\n      <td>1894469.0</td>\n      <td>1873668.0</td>\n    </tr>\n    <tr>\n      <th>6720</th>\n      <td>World Bank Upper Middle Income</td>\n      <td>NaN</td>\n      <td>1990</td>\n      <td>230409.0</td>\n      <td>532908.0</td>\n      <td>600957.0</td>\n      <td>1056488.0</td>\n    </tr>\n    <tr>\n      <th>6750</th>\n      <td>Yemen</td>\n      <td>YEM</td>\n      <td>1990</td>\n      <td>8883.0</td>\n      <td>21986.0</td>\n      <td>19544.0</td>\n      <td>36883.0</td>\n    </tr>\n    <tr>\n      <th>6780</th>\n      <td>Zambia</td>\n      <td>ZMB</td>\n      <td>1990</td>\n      <td>4798.0</td>\n      <td>25781.0</td>\n      <td>7980.0</td>\n      <td>22240.0</td>\n    </tr>\n    <tr>\n      <th>6810</th>\n      <td>Zimbabwe</td>\n      <td>ZWE</td>\n      <td>1990</td>\n      <td>2277.0</td>\n      <td>8182.0</td>\n      <td>6717.0</td>\n      <td>9153.0</td>\n    </tr>\n  </tbody>\n</table>\n<p>228 rows × 7 columns</p>\n</div>"
     },
     "execution_count": 97,
     "metadata": {},
     "output_type": "execute_result"
    }
   ],
   "source": [
    "data_source = data[data['Year']==1990]\n",
    "data_targrt = data[data['Year']==1995]\n",
    "data_source"
   ],
   "metadata": {
    "collapsed": false,
    "pycharm": {
     "name": "#%%\n"
    }
   }
  },
  {
   "cell_type": "code",
   "execution_count": 288,
   "outputs": [],
   "source": [
    "Xs = data_source[['Deaths - All causes - Sex: Both - Age: 0-6 days (Number)','Deaths - All causes - Sex: Both - Age: 7-27 days (Number)','Deaths - All causes - Sex: Both - Age: 28-364 days (Number)','Deaths - All causes - Sex: Both - Age: 1-4 years (Number)']].reset_index(drop=True)\n",
    "Ys = [data_source['Deaths - All causes - Sex: Both - Age: 1-4 years (Number)']<0.8*data_source['Deaths - All causes - Sex: Both - Age: 1-4 years (Number)'].mean(), data_source['Deaths - All causes - Sex: Both - Age: 28-364 days (Number)']<0.5*data_source['Deaths - All causes - Sex: Both - Age: 28-364 days (Number)'].mean()]\n",
    "Ys[0] = Ys[0].map(lambda x: 1 if x else 0).reset_index(drop=True)\n",
    "Ys[1] = Ys[1].map(lambda x: 1 if x else 0).reset_index(drop=True)\n",
    "Ys = Ys[0] & Ys[1]\n",
    "Xt = data_targrt[['Deaths - All causes - Sex: Both - Age: 0-6 days (Number)','Deaths - All causes - Sex: Both - Age: 7-27 days (Number)','Deaths - All causes - Sex: Both - Age: 28-364 days (Number)','Deaths - All causes - Sex: Both - Age: 1-4 years (Number)']].reset_index(drop=True)\n",
    "Yt = [data_targrt['Deaths - All causes - Sex: Both - Age: 1-4 years (Number)']<0.8*data_targrt['Deaths - All causes - Sex: Both - Age: 1-4 years (Number)'].mean(), data_targrt['Deaths - All causes - Sex: Both - Age: 28-364 days (Number)']<0.8*data_targrt['Deaths - All causes - Sex: Both - Age: 28-364 days (Number)'].mean()]\n",
    "Yt[0] = Yt[0].map(lambda x: 1 if x else 0).reset_index(drop=True)\n",
    "Yt[1] = Yt[1].map(lambda x: 1 if x else 0).reset_index(drop=True)\n",
    "Yt = Yt[0] & Yt[1]"
   ],
   "metadata": {
    "collapsed": false,
    "pycharm": {
     "name": "#%%\n"
    }
   }
  },
  {
   "cell_type": "code",
   "execution_count": 289,
   "outputs": [
    {
     "name": "stdout",
     "output_type": "stream",
     "text": [
      "The accuracy of TCA is: 0.8202\n",
      "[1 1 1 1 1 1 1 1 1 1 1 1 1 1 1 1 1 1 1 1 1 0 1 1 1 0 1 1 1 1 1 1 1 1 1 1 1\n",
      " 1 1 1 1 1 1 1 1 1 1 1 1 0 1 1 1 1 1 1 1 1 1 1 1 0 1 0 0 0 0 1 1 0 1 1 1 1\n",
      " 1 1 1 1 1 1 0 1 1 1 0 1 1 1 1 1 1 1 1 1 1 1 0 1 1 1 1 1 1 0 1 1 1 1 0 1 1\n",
      " 0 1 1 1 1 1 1 1 1 1 1 1 0 1 1 1 1 1 0 1 1 1 1 1 1 1 1 1 1 1 1 1 1 1 1 1 1\n",
      " 0 1 1 1 1 1 0 1 1 1 1 1 1 1 1 1 1 1 1 1 1 0 0 1 1 1 1 1 0 1 1 1 1 1 1 1 1\n",
      " 1 1 1 1 1 1 1 1 1 1 1 0 1 1 1 1 1 1 1 1 1 0 1 1 1 1 1 1 1 1 1 1 1 1 1 1 1\n",
      " 1 1 1 0 1 1]\n",
      "[1, 0, 1, 1, 1, 1, 1, 1, 1, 1, 1, 1, 1, 1, 1, 0, 1, 1, 1, 1, 1, 1, 1, 1, 1, 1, 0, 1, 1, 1, 1, 1, 1, 1, 1, 1, 1, 1, 0, 1, 1, 1, 1, 1, 1, 1, 1, 1, 1, 0, 1, 1, 1, 1, 0, 0, 1, 1, 1, 1, 1, 1, 1, 1, 0, 0, 0, 1, 1, 1, 0, 1, 1, 1, 1, 1, 1, 1, 1, 1, 1, 1, 1, 1, 1, 1, 1, 1, 0, 0, 1, 1, 1, 1, 1, 1, 1, 1, 1, 1, 1, 1, 1, 1, 0, 1, 1, 1, 1, 1, 1, 1, 1, 1, 1, 1, 1, 1, 1, 1, 1, 1, 1, 0, 1, 1, 1, 1, 1, 1, 0, 1, 1, 1, 1, 1, 1, 0, 0, 1, 1, 1, 1, 1, 1, 1, 0, 1, 0, 1, 1, 1, 1, 1, 1, 1, 1, 1, 1, 1, 0, 1, 1, 1, 1, 1, 1, 1, 1, 1, 1, 1, 1, 1, 1, 1, 1, 1, 1, 1, 1, 1, 0, 1, 1, 0, 1, 1, 0, 1, 1, 1, 1, 1, 1, 1, 0, 1, 1, 1, 1, 1, 1, 1, 1, 1, 1, 1, 1, 1, 1, 1, 1, 1, 1, 1, 1, 1, 1, 0, 0, 1, 0, 0, 0, 1, 1, 1]\n"
     ]
    }
   ],
   "source": [
    "tca = TCA(kernel_type='linear', dim=4, lamb=1, gamma=1)\n",
    "acc, ypre, Xt_new, Xs_new = tca.fit_predict(Xs, Ys, Xt, Yt)\n",
    "print(f'The accuracy of TCA is: {acc:.4f}')\n",
    "print(ypre)\n",
    "print(list(Yt))"
   ],
   "metadata": {
    "collapsed": false,
    "pycharm": {
     "name": "#%%\n"
    }
   }
  },
  {
   "cell_type": "code",
   "execution_count": 290,
   "outputs": [
    {
     "data": {
      "text/plain": "<Figure size 432x288 with 1 Axes>",
      "image/png": "[encoded data removed]"
     },
     "metadata": {
      "needs_background": "light"
     },
     "output_type": "display_data"
    },
    {
     "name": "stdout",
     "output_type": "stream",
     "text": [
      "The accuracy of TCA is: 0.9693\n",
      "[1 0 1 1 1 1 0 1 1 1 1 1 1 1 1 0 1 1 1 1 1 1 1 1 1 1 0 1 1 0 1 1 1 1 1 1 1\n",
      " 1 0 1 1 1 1 1 1 1 1 1 1 0 1 1 1 1 0 0 1 0 1 1 1 1 1 1 0 0 0 1 1 1 0 1 1 1\n",
      " 1 1 1 1 1 1 1 1 1 1 1 1 1 1 0 0 1 1 1 1 1 1 1 1 1 1 1 1 1 1 0 1 1 1 1 1 1\n",
      " 1 1 1 1 1 1 1 1 1 1 1 1 0 1 1 1 1 1 1 1 1 1 1 1 1 1 1 0 1 1 1 1 1 1 1 0 1\n",
      " 0 1 1 1 1 1 1 1 1 1 1 1 0 1 1 1 1 1 1 1 1 1 1 1 1 1 1 1 1 1 1 1 1 1 0 1 1\n",
      " 0 1 1 0 1 1 1 1 1 1 1 1 1 1 1 1 1 1 1 1 1 1 1 1 1 1 1 1 1 1 1 1 1 1 0 0 0\n",
      " 0 0 0 1 1 1]\n",
      "[1, 0, 1, 1, 1, 1, 1, 1, 1, 1, 1, 1, 1, 1, 1, 0, 1, 1, 1, 1, 1, 1, 1, 1, 1, 1, 0, 1, 1, 1, 1, 1, 1, 1, 1, 1, 1, 1, 0, 1, 1, 1, 1, 1, 1, 1, 1, 1, 1, 0, 1, 1, 1, 1, 0, 0, 1, 1, 1, 1, 1, 1, 1, 1, 0, 0, 0, 1, 1, 1, 0, 1, 1, 1, 1, 1, 1, 1, 1, 1, 1, 1, 1, 1, 1, 1, 1, 1, 0, 0, 1, 1, 1, 1, 1, 1, 1, 1, 1, 1, 1, 1, 1, 1, 0, 1, 1, 1, 1, 1, 1, 1, 1, 1, 1, 1, 1, 1, 1, 1, 1, 1, 1, 0, 1, 1, 1, 1, 1, 1, 0, 1, 1, 1, 1, 1, 1, 0, 0, 1, 1, 1, 1, 1, 1, 1, 0, 1, 0, 1, 1, 1, 1, 1, 1, 1, 1, 1, 1, 1, 0, 1, 1, 1, 1, 1, 1, 1, 1, 1, 1, 1, 1, 1, 1, 1, 1, 1, 1, 1, 1, 1, 0, 1, 1, 0, 1, 1, 0, 1, 1, 1, 1, 1, 1, 1, 0, 1, 1, 1, 1, 1, 1, 1, 1, 1, 1, 1, 1, 1, 1, 1, 1, 1, 1, 1, 1, 1, 1, 0, 0, 1, 0, 0, 0, 1, 1, 1]\n"
     ]
    }
   ],
   "source": [
    "pca = PCA(n_components=2)\n",
    "Xt_pca = pca.fit_transform(Xt)\n",
    "Xs_pca = pca.fit_transform(Xs)\n",
    "plt.scatter(Xs_pca[np.where(Ys==1)][:,0], Xs_pca[np.where(Ys==1)][:,1], marker='+', c='g', alpha=0.3)\n",
    "plt.scatter(Xs_pca[np.where(Ys==0)][:,0], Xs_pca[np.where(Ys==0)][:,1], marker='o', c='g', alpha=0.3)\n",
    "plt.scatter(Xt_pca[np.where(Yt==1)][:,0], Xt_pca[np.where(Yt==1)][:,1], marker='+', c='r', alpha=0.3)\n",
    "plt.scatter(Xt_pca[np.where(Yt==0)][:,0], Xt_pca[np.where(Yt==0)][:,1], marker='o', c='r', alpha=0.3)\n",
    "plt.show()\n",
    "\n",
    "tca = TCA(kernel_type='linear', dim=4, lamb=1, gamma=1)\n",
    "acc, ypre, Xt_new, Xs_new = tca.fit_predict(Xs_pca, Ys, Xt_pca, Yt)\n",
    "print(f'The accuracy of TCA is: {acc:.4f}')\n",
    "print(ypre)\n",
    "print(list(Yt))"
   ],
   "metadata": {
    "collapsed": false,
    "pycharm": {
     "name": "#%%\n"
    }
   }
  },
  {
   "cell_type": "code",
   "execution_count": 291,
   "outputs": [
    {
     "name": "stdout",
     "output_type": "stream",
     "text": [
      "0.9692982456140351\n",
      "[1 0 1 1 1 1 0 1 1 1 1 1 1 1 1 0 1 1 1 1 1 1 1 1 1 1 0 1 1 0 1 1 1 1 1 1 1\n",
      " 1 0 1 1 1 1 1 1 1 1 1 1 0 1 1 1 1 0 0 1 1 1 1 1 1 1 1 0 0 0 1 1 1 0 1 1 1\n",
      " 1 1 1 1 1 1 1 1 1 1 1 1 1 1 0 0 1 1 1 1 1 1 1 1 1 1 1 1 1 1 0 1 1 1 1 1 1\n",
      " 1 1 0 1 1 0 1 1 1 1 1 1 0 1 1 1 1 1 0 0 1 1 1 1 1 1 0 0 1 1 1 1 1 1 1 0 1\n",
      " 0 1 1 1 1 1 1 1 1 1 1 1 0 1 1 1 1 1 1 1 1 1 1 1 1 1 1 1 1 1 1 1 1 1 0 1 1\n",
      " 0 1 1 0 1 1 1 1 1 1 1 0 1 1 1 1 1 1 1 1 1 1 0 1 1 1 1 1 1 1 1 1 1 1 0 0 0\n",
      " 0 0 0 1 1 1]\n"
     ]
    }
   ],
   "source": [
    "pca = PCA(n_components=2)\n",
    "Xt_pca = pca.fit_transform(Xt)\n",
    "Xs_pca = pca.fit_transform(Xs)\n",
    "clf = KNeighborsClassifier(n_neighbors=1)\n",
    "clf.fit(Xs_pca, Ys.ravel())\n",
    "y_pre = clf.predict(Xt_pca)\n",
    "acc = sklearn.metrics.accuracy_score(Yt, ypre)\n",
    "print(acc)\n",
    "print(y_pre)"
   ],
   "metadata": {
    "collapsed": false,
    "pycharm": {
     "name": "#%%\n"
    }
   }
  },
  {
   "cell_type": "code",
   "execution_count": 292,
   "outputs": [
    {
     "data": {
      "text/plain": "(array([ 57, 113, 116, 129, 130, 137, 196, 207]),)"
     },
     "execution_count": 292,
     "metadata": {},
     "output_type": "execute_result"
    }
   ],
   "source": [
    "np.where((y_pre==ypre)==False)"
   ],
   "metadata": {
    "collapsed": false,
    "pycharm": {
     "name": "#%%\n"
    }
   }
  },
  {
   "cell_type": "code",
   "execution_count": 212,
   "outputs": [
    {
     "data": {
      "text/plain": "<Figure size 432x288 with 1 Axes>",
      "image/png": "[encoded data removed]"
     },
     "metadata": {
      "needs_background": "light"
     },
     "output_type": "display_data"
    }
   ],
   "source": [
    "data1 = Xs_new[np.where(Yt==1)]\n",
    "data2 = Xt_new[np.where(ypre==1)]\n",
    "data3 = Xt_new[np.where(Yt==1)]\n",
    "plt.scatter(data1[:,0], data1[:,1],c='b', alpha=0.3)\n",
    "plt.scatter(data3[:,0], data3[:,1],c='g', alpha=0.3)\n",
    "plt.scatter(data2[:,0], data2[:,1],c='r', alpha=0.3)\n",
    "plt.show()"
   ],
   "metadata": {
    "collapsed": false,
    "pycharm": {
     "name": "#%%\n"
    }
   }
  },
  {
   "cell_type": "code",
   "execution_count": 295,
   "outputs": [
    {
     "data": {
      "text/plain": "<Figure size 432x288 with 1 Axes>",
      "image/png": "[encoded data removed]"
     },
     "metadata": {
      "needs_background": "light"
     },
     "output_type": "display_data"
    }
   ],
   "source": [
    "data1 = np.array(Xt)[np.where(Yt==1)]\n",
    "data2 = np.array(Xt)[np.where(Yt==0)]\n",
    "import matplotlib.pyplot as plt\n",
    "plt.scatter(data1[:,3], data1[:,2],c='b')\n",
    "plt.scatter(data2[:,3], data2[:,2],c='g')\n",
    "plt.show()"
   ],
   "metadata": {
    "collapsed": false,
    "pycharm": {
     "name": "#%%\n"
    }
   }
  },
  {
   "cell_type": "code",
   "execution_count": 296,
   "outputs": [
    {
     "data": {
      "text/plain": "<Figure size 432x288 with 1 Axes>",
      "image/png": "[encoded data removed]"
     },
     "metadata": {
      "needs_background": "light"
     },
     "output_type": "display_data"
    }
   ],
   "source": [
    "data1 = np.array(Xt)[np.where(ypre==1)]\n",
    "data2 = np.array(Xt)[np.where(ypre==0)]\n",
    "import matplotlib.pyplot as plt\n",
    "plt.scatter(data1[:,3], data1[:,2],c='b')\n",
    "plt.scatter(data2[:,3], data2[:,2],c='g')\n",
    "plt.show()"
   ],
   "metadata": {
    "collapsed": false,
    "pycharm": {
     "name": "#%%\n"
    }
   }
  },
  {
   "cell_type": "code",
   "execution_count": 152,
   "outputs": [
    {
     "data": {
      "text/plain": "<Figure size 432x288 with 1 Axes>",
      "image/png": "[encoded data removed]"
     },
     "metadata": {
      "needs_background": "light"
     },
     "output_type": "display_data"
    }
   ],
   "source": [
    "data1 = np.array(Xs)[np.where(Ys==1)]\n",
    "data2 = np.array(Xs)[np.where(Ys==0)]\n",
    "import matplotlib.pyplot as plt\n",
    "plt.scatter(data1[:,3], data1[:,2],c='b')\n",
    "plt.scatter(data2[:,3], data2[:,2],c='g')\n",
    "plt.show()"
   ],
   "metadata": {
    "collapsed": false,
    "pycharm": {
     "name": "#%%\n"
    }
   }
  }
 ],
 "metadata": {
  "kernelspec": {
   "display_name": "Python 3",
   "language": "python",
   "name": "python3"
  },
  "language_info": {
   "codemirror_mode": {
    "name": "ipython",
    "version": 2
   },
   "file_extension": ".py",
   "mimetype": "text/x-python",
   "name": "python",
   "nbconvert_exporter": "python",
   "pygments_lexer": "ipython2",
   "version": "2.7.6"
  }
 },
 "nbformat": 4,
 "nbformat_minor": 0
}