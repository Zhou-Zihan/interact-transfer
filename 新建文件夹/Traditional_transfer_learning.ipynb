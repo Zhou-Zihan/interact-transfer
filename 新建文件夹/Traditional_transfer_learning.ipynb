{
 "cells": [
  {
   "cell_type": "markdown",
   "metadata": {
    "id": "icVPttAPFurS",
    "pycharm": {
     "name": "#%% md\n"
    }
   },
   "source": [
    "# Traditional transfer learning tutorial\n",
    "This is a tutorial notebook for traditional transfer learning (i.e., non-deep learning).\n",
    "\n",
    "We'll implement two algorithms:\n",
    "- **TCA** (Transfer Component Analysis) [1]\n",
    "- **BDA** (Balanced Distribution Adaptation) [2]\n",
    "\n",
    "Then, we test the algorithms using **Office-Caltech10** SURF dataset. This dataset will be downloaded automatically in this tutorial.\n",
    "\n",
    "References:\n",
    "\n",
    "[1] Pan S J, Tsang I W, Kwok J T, et al. Domain adaptation via transfer component analysis[J]. IEEE Transactions on Neural Networks, 2010, 22(2): 199-210.\n",
    "\n",
    "[2] Wang J, Chen Y, Hao S, et al. Balanced distribution adaptation for transfer learning[C]//2017 IEEE international conference on data mining (ICDM). IEEE, 2017: 1129-1134."
   ]
  },
  {
   "cell_type": "markdown",
   "metadata": {
    "id": "Fs_zONUnFurW",
    "pycharm": {
     "name": "#%% md\n"
    }
   },
   "source": [
    "## Download and unzip dataset\n",
    "You can also download the dataset from here: https://github.com/jindongwang/transferlearning/tree/master/data#office-caltech10"
   ]
  },
  {
   "cell_type": "code",
   "execution_count": 27,
   "metadata": {
    "colab": {
     "base_uri": "https://localhost:8080/"
    },
    "id": "UItzY-rN-C6Z",
    "outputId": "fe3bb35e-292f-48bb-db11-385fc1e53191",
    "pycharm": {
     "name": "#%%\n"
    }
   },
   "outputs": [
    {
     "name": "stdout",
     "output_type": "stream",
     "text": [
      "zsh:1: command not found: wget\r\n",
      "unzip:  cannot find or open office-caltech-surf.zip, office-caltech-surf.zip.zip or office-caltech-surf.zip.ZIP.\r\n"
     ]
    }
   ],
   "source": [
    "!wget https://transferlearningdrive.blob.core.windows.net/teamdrive/dataset/office-caltech-surf.zip\n",
    "!unzip office-caltech-surf.zip"
   ]
  },
  {
   "cell_type": "markdown",
   "metadata": {
    "id": "4wSXVFUZFurX",
    "pycharm": {
     "name": "#%% md\n"
    }
   },
   "source": [
    "## Import libraries"
   ]
  },
  {
   "cell_type": "code",
   "execution_count": 1,
   "metadata": {
    "id": "fRoy6hvY-zKM",
    "pycharm": {
     "name": "#%%\n"
    }
   },
   "outputs": [],
   "source": [
    "import numpy as np\n",
    "import scipy.io\n",
    "import scipy.linalg\n",
    "import sklearn.metrics\n",
    "from sklearn.neighbors import KNeighborsClassifier"
   ]
  },
  {
   "cell_type": "markdown",
   "metadata": {
    "id": "Z3fuq1sqFurY",
    "pycharm": {
     "name": "#%% md\n"
    }
   },
   "source": [
    "## Define a kernel function"
   ]
  },
  {
   "cell_type": "code",
   "execution_count": 2,
   "metadata": {
    "id": "FAmo6hc_-5Pu",
    "pycharm": {
     "name": "#%%\n"
    }
   },
   "outputs": [],
   "source": [
    "def kernel(ker, X1, X2, gamma):\n",
    "    K = None\n",
    "    if not ker or ker == 'primal':\n",
    "        K = X1\n",
    "    elif ker == 'linear':\n",
    "        if X2 is not None:\n",
    "            K = sklearn.metrics.pairwise.linear_kernel(np.asarray(X1).T, np.asarray(X2).T)\n",
    "        else:\n",
    "            K = sklearn.metrics.pairwise.linear_kernel(np.asarray(X1).T)\n",
    "    elif ker == 'rbf':\n",
    "        if X2 is not None:\n",
    "            K = sklearn.metrics.pairwise.rbf_kernel(np.asarray(X1).T, np.asarray(X2).T, gamma)\n",
    "        else:\n",
    "            K = sklearn.metrics.pairwise.rbf_kernel(np.asarray(X1).T, None, gamma)\n",
    "    return K"
   ]
  },
  {
   "cell_type": "markdown",
   "metadata": {
    "id": "GhngbY7DFurY",
    "pycharm": {
     "name": "#%% md\n"
    }
   },
   "source": [
    "## Implement TCA"
   ]
  },
  {
   "cell_type": "code",
   "execution_count": 3,
   "metadata": {
    "id": "yjaBHq7P-8qB",
    "pycharm": {
     "name": "#%%\n"
    }
   },
   "outputs": [],
   "source": [
    "class TCA:\n",
    "    def __init__(self, kernel_type='primal', dim=30, lamb=1, gamma=1):\n",
    "        '''\n",
    "        Init func\n",
    "        :param kernel_type: kernel, values: 'primal' | 'linear' | 'rbf'\n",
    "        :param dim: dimension after transfer\n",
    "        :param lamb: lambda value in equation\n",
    "        :param gamma: kernel bandwidth for rbf kernel\n",
    "        '''\n",
    "        self.kernel_type = kernel_type\n",
    "        self.dim = dim\n",
    "        self.lamb = lamb\n",
    "        self.gamma = gamma\n",
    "\n",
    "    def fit(self, Xs, Xt):\n",
    "        '''\n",
    "        Transform Xs and Xt\n",
    "        :param Xs: ns * n_feature, source feature\n",
    "        :param Xt: nt * n_feature, target feature\n",
    "        :return: Xs_new and Xt_new after TCA\n",
    "        '''\n",
    "        X = np.hstack((Xs.T, Xt.T))\n",
    "        X /= np.linalg.norm(X, axis=0)\n",
    "        m, n = X.shape\n",
    "        ns, nt = len(Xs), len(Xt)\n",
    "        e = np.vstack((1 / ns * np.ones((ns, 1)), -1 / nt * np.ones((nt, 1))))\n",
    "        M = e * e.T\n",
    "        M = M / np.linalg.norm(M, 'fro')\n",
    "        H = np.eye(n) - 1 / n * np.ones((n, n))\n",
    "        K = kernel(self.kernel_type, X, None, gamma=self.gamma)\n",
    "        n_eye = m if self.kernel_type == 'primal' else n\n",
    "        a, b = np.linalg.multi_dot([K, M, K.T]) + self.lamb * np.eye(n_eye), np.linalg.multi_dot([K, H, K.T])\n",
    "        w, V = scipy.linalg.eig(a, b)\n",
    "        w = w.real\n",
    "        V = V.real\n",
    "        ind = np.argsort(w)\n",
    "        A = V[:, ind[:self.dim]]\n",
    "        Z = np.dot(A.T, K)\n",
    "        Z /= np.linalg.norm(Z, axis=0)\n",
    "        Xs_new, Xt_new = Z[:, :ns].T, Z[:, ns:].T\n",
    "        return Xs_new, Xt_new\n",
    "\n",
    "    def fit_predict(self, Xs, Ys, Xt, Yt):\n",
    "        '''\n",
    "        Transform Xs and Xt, then make predictions on target using 1NN\n",
    "        :param Xs: ns * n_feature, source feature\n",
    "        :param Ys: ns * 1, source label\n",
    "        :param Xt: nt * n_feature, target feature\n",
    "        :param Yt: nt * 1, target label\n",
    "        :return: Accuracy and predicted_labels on the target domain\n",
    "        '''\n",
    "        Xs_new, Xt_new = self.fit(Xs, Xt)\n",
    "        clf = KNeighborsClassifier(n_neighbors=1)\n",
    "        clf.fit(Xs_new, Ys.ravel())\n",
    "        y_pred = clf.predict(Xt_new)\n",
    "        acc = sklearn.metrics.accuracy_score(Yt, y_pred)\n",
    "        return acc, y_pred"
   ]
  },
  {
   "cell_type": "markdown",
   "metadata": {
    "id": "yuKeKRCUFurZ",
    "pycharm": {
     "name": "#%% md\n"
    }
   },
   "source": [
    "## Implement BDA"
   ]
  },
  {
   "cell_type": "code",
   "execution_count": 4,
   "metadata": {
    "id": "wVb8DLYA_U03",
    "pycharm": {
     "name": "#%%\n"
    }
   },
   "outputs": [],
   "source": [
    "class BDA:\n",
    "    def __init__(self, kernel_type='primal', dim=30, lamb=1, mu=0.5, gamma=1, T=10, mode='BDA', estimate_mu=False):\n",
    "        '''\n",
    "        Init func\n",
    "        :param kernel_type: kernel, values: 'primal' | 'linear' | 'rbf'\n",
    "        :param dim: dimension after transfer\n",
    "        :param lamb: lambda value in equation\n",
    "        :param mu: mu. Default is -1, if not specificied, it calculates using A-distance\n",
    "        :param gamma: kernel bandwidth for rbf kernel\n",
    "        :param T: iteration number\n",
    "        :param mode: 'BDA' | 'WBDA'\n",
    "        :param estimate_mu: True | False, if you want to automatically estimate mu instead of manally set it\n",
    "        '''\n",
    "        self.kernel_type = kernel_type\n",
    "        self.dim = dim\n",
    "        self.lamb = lamb\n",
    "        self.mu = mu\n",
    "        self.gamma = gamma\n",
    "        self.T = T\n",
    "        self.mode = mode\n",
    "        self.estimate_mu = estimate_mu\n",
    "\n",
    "    def fit_predict(self, Xs, Ys, Xt, Yt):\n",
    "        '''\n",
    "        Transform and Predict using 1NN as JDA paper did\n",
    "        :param Xs: ns * n_feature, source feature\n",
    "        :param Ys: ns * 1, source label\n",
    "        :param Xt: nt * n_feature, target feature\n",
    "        :param Yt: nt * 1, target label\n",
    "        :return: acc, y_pred, list_acc\n",
    "        '''\n",
    "        list_acc = []\n",
    "        X = np.hstack((Xs.T, Xt.T))\n",
    "        X /= np.linalg.norm(X, axis=0)\n",
    "        m, n = X.shape\n",
    "        ns, nt = len(Xs), len(Xt)\n",
    "        e = np.vstack((1 / ns * np.ones((ns, 1)), -1 / nt * np.ones((nt, 1))))\n",
    "        C = len(np.unique(Ys))\n",
    "        H = np.eye(n) - 1 / n * np.ones((n, n))\n",
    "        mu = self.mu\n",
    "        M = 0\n",
    "        Y_tar_pseudo = None\n",
    "        Xs_new = None\n",
    "        for t in range(self.T):\n",
    "            N = 0\n",
    "            M0 = e * e.T * C\n",
    "            if Y_tar_pseudo is not None and len(Y_tar_pseudo) == nt:\n",
    "                for c in range(0, C):\n",
    "                    e = np.zeros((n, 1))\n",
    "                    Ns = len(Ys[np.where(Ys == c)])\n",
    "                    Nt = len(Y_tar_pseudo[np.where(Y_tar_pseudo == c)])\n",
    "\n",
    "                    if self.mode == 'WBDA':\n",
    "                        Ps = Ns / len(Ys)\n",
    "                        Pt = Nt / len(Y_tar_pseudo)\n",
    "                        alpha = Pt / Ps\n",
    "                        mu = 1\n",
    "                    else:\n",
    "                        alpha = 1\n",
    "\n",
    "                    tt = Ys == c\n",
    "                    e[np.where(tt == True)] = 1 / Ns\n",
    "                    yy = Y_tar_pseudo == c\n",
    "                    ind = np.where(yy == True)\n",
    "                    inds = [item + ns for item in ind]\n",
    "                    e[tuple(inds)] = -alpha / Nt\n",
    "                    e[np.isinf(e)] = 0\n",
    "                    N = N + np.dot(e, e.T)\n",
    "\n",
    "            # In BDA, mu can be set or automatically estimated using A-distance\n",
    "            # In WBDA, we find that setting mu=1 is enough\n",
    "            if self.estimate_mu and self.mode == 'BDA':\n",
    "                if Xs_new is not None:\n",
    "                    mu = estimate_mu(Xs_new, Ys, Xt_new, Y_tar_pseudo)\n",
    "                else:\n",
    "                    mu = 0\n",
    "            M = (1 - mu) * M0 + mu * N\n",
    "            M /= np.linalg.norm(M, 'fro')\n",
    "            K = kernel(self.kernel_type, X, None, gamma=self.gamma)\n",
    "            n_eye = m if self.kernel_type == 'primal' else n\n",
    "            a, b = np.linalg.multi_dot(\n",
    "                [K, M, K.T]) + self.lamb * np.eye(n_eye), np.linalg.multi_dot([K, H, K.T])\n",
    "            w, V = scipy.linalg.eig(a, b)\n",
    "            w = w.real\n",
    "            V = V.real\n",
    "            ind = np.argsort(w)\n",
    "            A = V[:, ind[:self.dim]]\n",
    "            Z = np.dot(A.T, K)\n",
    "            Z /= np.linalg.norm(Z, axis=0)\n",
    "            Xs_new, Xt_new = Z[:, :ns].T, Z[:, ns:].T\n",
    "\n",
    "            clf = sklearn.neighbors.KNeighborsClassifier(n_neighbors=1)\n",
    "            clf.fit(Xs_new, Ys.ravel())\n",
    "            Y_tar_pseudo = clf.predict(Xt_new)\n",
    "            acc = sklearn.metrics.accuracy_score(Yt, Y_tar_pseudo)\n",
    "            list_acc.append(acc)\n",
    "            print('{} iteration [{}/{}]: Acc: {:.4f}'.format(self.mode, t + 1, self.T, acc))\n",
    "        return acc, Y_tar_pseudo, list_acc"
   ]
  },
  {
   "cell_type": "markdown",
   "metadata": {
    "id": "5IuuTWGlFurc",
    "pycharm": {
     "name": "#%% md\n"
    }
   },
   "source": [
    "## Load data\n",
    "We'll load data. For demonstration, we use *Caltech* as the source and *amazon* as the target domain."
   ]
  },
  {
   "cell_type": "code",
   "execution_count": 5,
   "metadata": {
    "id": "aRBJ87xg-_H7",
    "pycharm": {
     "name": "#%%\n"
    }
   },
   "outputs": [],
   "source": [
    "src, tar = 'caltech_surf_10.mat', 'amazon_surf_10.mat'\n",
    "src_domain, tar_domain = scipy.io.loadmat(src), scipy.io.loadmat(tar)\n",
    "Xs, Ys, Xt, Yt = src_domain['feas'], src_domain['label'], tar_domain['feas'], tar_domain['label']"
   ]
  },
  {
   "cell_type": "code",
   "execution_count": 234,
   "outputs": [
    {
     "data": {
      "text/plain": "array([[-7.8753486, -1.625002 ],\n       [-7.027322 , -3.411113 ],\n       [-7.5634594, -2.0169375],\n       [-7.559441 , -2.049487 ],\n       [-7.6723022, -1.8315365],\n       [-6.6872387, -2.8846347],\n       [-7.6491456, -1.8536942],\n       [-6.395061 , -3.2532675],\n       [-6.159016 , -3.7692618],\n       [-7.666684 , -1.9482322],\n       [-7.0632324, -3.2893145],\n       [-6.7498074, -3.7577748],\n       [-6.319404 , -3.4205976],\n       [-5.940122 , -4.392717 ],\n       [-7.076075 , -3.3006363],\n       [-7.0782914, -2.9140072],\n       [-6.4990745, -3.0540693],\n       [-7.416134 , -2.3377273],\n       [-6.141917 , -4.0238643],\n       [-6.739482 , -2.8773775],\n       [-6.4090495, -3.1471503],\n       [-6.4534736, -3.8648198],\n       [-5.763604 , -4.629284 ],\n       [-7.0437083, -3.4307845],\n       [-6.6561694, -3.801952 ],\n       [-6.6741767, -2.9234037],\n       [-7.9093227, -1.5915864],\n       [-6.9675193, -3.4650588],\n       [-7.140838 , -2.9170003],\n       [-6.212417 , -4.041986 ],\n       [-5.0568733, -5.617364 ],\n       [-4.8080373, -6.0117097],\n       [-3.685959 , -7.5746484],\n       [-4.929999 , -5.8424654],\n       [-5.189341 , -5.3590436],\n       [-5.769898 , -4.6033354],\n       [-5.9957128, -4.327379 ],\n       [-4.8613043, -5.884661 ],\n       [-5.544675 , -4.897735 ],\n       [-5.8237414, -4.5944843],\n       [-3.5704675, -7.7207913],\n       [-4.7714267, -5.9697857],\n       [-4.2479577, -6.761454 ],\n       [-4.4569516, -6.568168 ],\n       [-4.4870973, -6.4781685],\n       [-4.8948426, -5.9020905],\n       [-4.015592 , -7.1152053],\n       [-3.6224303, -7.643045 ],\n       [-4.6014786, -6.277171 ],\n       [-4.0331364, -7.14574  ],\n       [-3.3623924, -7.9901667],\n       [-4.7063227, -6.0726466],\n       [-4.319459 , -6.6721764],\n       [-4.2291813, -6.751725 ],\n       [-3.7170627, -7.4816856],\n       [-3.2265685, -8.074424 ],\n       [-3.5133696, -7.780568 ],\n       [-3.2218754, -8.122927 ],\n       [-3.225787 , -8.123118 ],\n       [-3.2394838, -8.116716 ]], dtype=float32)"
     },
     "execution_count": 234,
     "metadata": {},
     "output_type": "execute_result"
    }
   ],
   "source": [
    "from sklearn.decomposition import PCA\n",
    "from sklearn.manifold import TSNE\n",
    "pca = PCA(n_components=2)\n",
    "tsne = TSNE(n_components=2)\n",
    "# Xs_new = pca.fit_transform(Xs)\n",
    "Xs_new = tsne.fit_transform(Xs)\n",
    "# Xs_new\n",
    "Xt_new = tsne.fit_transform(Xt)\n",
    "Xt_new"
   ],
   "metadata": {
    "collapsed": false,
    "pycharm": {
     "name": "#%%\n"
    }
   }
  },
  {
   "cell_type": "code",
   "execution_count": 236,
   "outputs": [
    {
     "data": {
      "text/plain": "<Figure size 432x288 with 1 Axes>",
      "image/png": "[encoded data removed]"
     },
     "metadata": {
      "needs_background": "light"
     },
     "output_type": "display_data"
    }
   ],
   "source": [
    "import matplotlib.pyplot as plt\n",
    "plt.scatter(Xs_new[:,0], Xs_new[:,1],c='b')\n",
    "plt.show()"
   ],
   "metadata": {
    "collapsed": false,
    "pycharm": {
     "name": "#%%\n"
    }
   }
  },
  {
   "cell_type": "code",
   "execution_count": 6,
   "outputs": [
    {
     "data": {
      "text/plain": "array([[-0.36806265, -0.27473503, -0.2798349 , ..., -0.31364439,\n        -0.29677174, -0.22209119],\n       [-0.36806265, -0.27473503, -0.2798349 , ..., -0.31364439,\n        -0.29677174, -0.22209119],\n       [ 1.06507306, -0.27473503, -0.2798349 , ..., -0.31364439,\n        -0.29677174, -0.22209119],\n       ...,\n       [-0.36806265, -0.27473503, -0.2798349 , ..., -0.31364439,\n        -0.29677174, -0.22209119],\n       [-0.36806265,  2.03070409, -0.2798349 , ...,  2.01155845,\n        -0.29677174, -0.22209119],\n       [-0.36806265, -0.27473503, -0.2798349 , ..., -0.31364439,\n        -0.29677174, -0.22209119]])"
     },
     "execution_count": 6,
     "metadata": {},
     "output_type": "execute_result"
    }
   ],
   "source": [
    "Xs"
   ],
   "metadata": {
    "collapsed": false,
    "pycharm": {
     "name": "#%%\n"
    }
   }
  },
  {
   "cell_type": "markdown",
   "metadata": {
    "id": "p1qkzPZxFure",
    "pycharm": {
     "name": "#%% md\n"
    }
   },
   "source": [
    "## Test TCA"
   ]
  },
  {
   "cell_type": "code",
   "execution_count": null,
   "metadata": {
    "colab": {
     "base_uri": "https://localhost:8080/"
    },
    "id": "7U6Ez1B2Furf",
    "outputId": "47398327-4c65-41e9-fee0-1783fe562325",
    "pycharm": {
     "name": "#%%\n"
    }
   },
   "outputs": [
    {
     "name": "stdout",
     "output_type": "stream",
     "text": [
      "The accuracy of TCA is: 0.4562\n"
     ]
    }
   ],
   "source": [
    "tca = TCA(kernel_type='linear', dim=30, lamb=1, gamma=1)\n",
    "acc, ypre = tca.fit_predict(Xs, Ys, Xt, Yt)\n",
    "print(f'The accuracy of TCA is: {acc:.4f}')"
   ]
  },
  {
   "cell_type": "markdown",
   "metadata": {
    "id": "68GhdRh4Furf",
    "pycharm": {
     "name": "#%% md\n"
    }
   },
   "source": [
    "## Test BDA"
   ]
  },
  {
   "cell_type": "code",
   "execution_count": null,
   "metadata": {
    "colab": {
     "base_uri": "https://localhost:8080/"
    },
    "id": "5m609OVBFurf",
    "outputId": "8165ebd1-4ebb-49f2-f893-f1e9b24afe10",
    "pycharm": {
     "name": "#%%\n"
    }
   },
   "outputs": [
    {
     "name": "stdout",
     "output_type": "stream",
     "text": [
      "BDA iteration [1/10]: Acc: 0.4666\n",
      "BDA iteration [2/10]: Acc: 0.4593\n",
      "BDA iteration [3/10]: Acc: 0.4656\n",
      "BDA iteration [4/10]: Acc: 0.4624\n",
      "BDA iteration [5/10]: Acc: 0.4666\n",
      "BDA iteration [6/10]: Acc: 0.4666\n",
      "BDA iteration [7/10]: Acc: 0.4656\n",
      "BDA iteration [8/10]: Acc: 0.4656\n",
      "BDA iteration [9/10]: Acc: 0.4656\n",
      "BDA iteration [10/10]: Acc: 0.4656\n",
      "The accuracy of BDA is: 0.4656\n"
     ]
    }
   ],
   "source": [
    "bda = BDA(kernel_type='primal', dim=30, lamb=1, mu=0.5, mode='BDA', gamma=1, estimate_mu=False)\n",
    "acc, ypre, list_acc = bda.fit_predict(Xs, Ys, Xt, Yt)\n",
    "print(f'The accuracy of BDA is: {acc:.4f}')"
   ]
  },
  {
   "cell_type": "markdown",
   "metadata": {
    "id": "sp2axlhhILUF",
    "pycharm": {
     "name": "#%% md\n"
    }
   },
   "source": [
    "## Test WBDA"
   ]
  },
  {
   "cell_type": "code",
   "execution_count": null,
   "metadata": {
    "colab": {
     "base_uri": "https://localhost:8080/"
    },
    "id": "somL-0WnFurf",
    "outputId": "a5ba906f-ee1b-416f-9e7f-b2fbbb4de3de",
    "pycharm": {
     "name": "#%%\n"
    }
   },
   "outputs": [
    {
     "name": "stdout",
     "output_type": "stream",
     "text": [
      "WBDA iteration [1/10]: Acc: 0.4666\n",
      "WBDA iteration [2/10]: Acc: 0.4635\n",
      "WBDA iteration [3/10]: Acc: 0.4520\n",
      "WBDA iteration [4/10]: Acc: 0.4635\n",
      "WBDA iteration [5/10]: Acc: 0.4603\n",
      "WBDA iteration [6/10]: Acc: 0.4624\n",
      "WBDA iteration [7/10]: Acc: 0.4572\n",
      "WBDA iteration [8/10]: Acc: 0.4624\n",
      "WBDA iteration [9/10]: Acc: 0.4614\n",
      "WBDA iteration [10/10]: Acc: 0.4593\n",
      "The accuracy of WBDA is: 0.4593\n"
     ]
    }
   ],
   "source": [
    "wbda = BDA(kernel_type='primal', dim=30, lamb=1, mode='WBDA', gamma=1, estimate_mu=False)\n",
    "acc, ypre, list_acc = wbda.fit_predict(Xs, Ys, Xt, Yt)\n",
    "print(f'The accuracy of WBDA is: {acc:.4f}')"
   ]
  },
  {
   "cell_type": "markdown",
   "source": [
    "\n",
    "\n",
    "\n",
    "\n",
    "\n",
    "\n"
   ],
   "metadata": {
    "collapsed": false,
    "pycharm": {
     "name": "#%% md\n"
    }
   }
  },
  {
   "cell_type": "code",
   "execution_count": 233,
   "metadata": {
    "id": "h5B5VO8yKBQC",
    "pycharm": {
     "name": "#%%\n"
    }
   },
   "outputs": [],
   "source": [
    "import pandas as pd\n",
    "\n",
    "data_source = pd.read_csv('./car-euro-edited.csv', header=0)\n",
    "data_target = pd.read_csv('./car-japan-edited.csv', header=0)\n",
    "Xs = pd.DataFrame(data_source, columns=['Weight','Horsepower'],dtype=float)\n",
    "Ys = data_source[['Selected']].values\n",
    "Xt = pd.DataFrame(data_target, columns=['Weight','Horsepower'],dtype=float)\n",
    "Yt = data_target[['Selected']].values"
   ]
  },
  {
   "cell_type": "code",
   "execution_count": 195,
   "outputs": [
    {
     "name": "stdout",
     "output_type": "stream",
     "text": [
      "BDA iteration [1/10]: Acc: 0.5333\n",
      "BDA iteration [2/10]: Acc: 0.5333\n",
      "BDA iteration [3/10]: Acc: 0.5333\n",
      "BDA iteration [4/10]: Acc: 0.5333\n",
      "BDA iteration [5/10]: Acc: 0.5333\n",
      "BDA iteration [6/10]: Acc: 0.5333\n",
      "BDA iteration [7/10]: Acc: 0.5333\n",
      "BDA iteration [8/10]: Acc: 0.5333\n",
      "BDA iteration [9/10]: Acc: 0.5333\n",
      "BDA iteration [10/10]: Acc: 0.5333\n",
      "The accuracy of BDA is: 0.5333\n"
     ]
    }
   ],
   "source": [
    "# tca = TCA(kernel_type='linear', dim=15, lamb=1, gamma=1)\n",
    "# acc, ypre = tca.fit_predict(Xs, Ys, Xt, Yt)\n",
    "# print(f'The accuracy of TCA is: {acc:.4f}')\n",
    "\n",
    "bda = BDA(kernel_type='primal', dim=10, lamb=1, mu=0.5, mode='BDA', gamma=1, estimate_mu=False)\n",
    "acc, ypre, list_acc = bda.fit_predict(Xs, Ys, Xt, Yt)\n",
    "print(f'The accuracy of BDA is: {acc:.4f}')"
   ],
   "metadata": {
    "collapsed": false,
    "pycharm": {
     "name": "#%%\n"
    }
   }
  },
  {
   "cell_type": "code",
   "execution_count": 216,
   "outputs": [
    {
     "data": {
      "text/plain": "array([[-9.99985695e-01,  4.99544243e-03, -7.27421801e-05,\n         6.61206482e-04,  8.55296868e-04, -3.88434820e-04,\n        -1.90630220e-04,  1.46952925e-03,  3.20397690e-04,\n         1.76071335e-04],\n       [-9.99985695e-01,  4.99544243e-03, -7.27421801e-05,\n         6.61206482e-04,  8.55296868e-04, -3.88434820e-04,\n        -1.90630220e-04,  1.46952925e-03,  3.20397690e-04,\n         1.76071335e-04],\n       [-9.99985695e-01,  4.99544243e-03, -7.27421801e-05,\n         6.61206482e-04,  8.55296868e-04, -3.88434820e-04,\n        -1.90630220e-04,  1.46952925e-03,  3.20397690e-04,\n         1.76071335e-04],\n       [-9.99985695e-01,  4.99544243e-03, -7.27421801e-05,\n         6.61206482e-04,  8.55296868e-04, -3.88434820e-04,\n        -1.90630220e-04,  1.46952925e-03,  3.20397690e-04,\n         1.76071335e-04],\n       [-9.99985695e-01,  4.99544243e-03, -7.27421801e-05,\n         6.61206482e-04,  8.55296868e-04, -3.88434820e-04,\n        -1.90630220e-04,  1.46952925e-03,  3.20397690e-04,\n         1.76071335e-04],\n       [-9.99985695e-01,  4.99544243e-03, -7.27421801e-05,\n         6.61206482e-04,  8.55296868e-04, -3.88434820e-04,\n        -1.90630220e-04,  1.46952925e-03,  3.20397690e-04,\n         1.76071335e-04],\n       [-9.99985695e-01,  4.99544243e-03, -7.27421801e-05,\n         6.61206482e-04,  8.55296868e-04, -3.88434820e-04,\n        -1.90630220e-04,  1.46952925e-03,  3.20397690e-04,\n         1.76071335e-04],\n       [-9.99985695e-01,  4.99544243e-03, -7.27421801e-05,\n         6.61206482e-04,  8.55296868e-04, -3.88434820e-04,\n        -1.90630220e-04,  1.46952925e-03,  3.20397690e-04,\n         1.76071335e-04],\n       [-9.99985695e-01,  4.99544243e-03, -7.27421801e-05,\n         6.61206482e-04,  8.55296868e-04, -3.88434820e-04,\n        -1.90630220e-04,  1.46952925e-03,  3.20397690e-04,\n         1.76071335e-04],\n       [-9.99985695e-01,  4.99544243e-03, -7.27421801e-05,\n         6.61206482e-04,  8.55296868e-04, -3.88434820e-04,\n        -1.90630220e-04,  1.46952925e-03,  3.20397690e-04,\n         1.76071335e-04],\n       [-9.99985695e-01,  4.99544243e-03, -7.27421801e-05,\n         6.61206482e-04,  8.55296868e-04, -3.88434820e-04,\n        -1.90630220e-04,  1.46952925e-03,  3.20397690e-04,\n         1.76071335e-04],\n       [-9.99985695e-01,  4.99544243e-03, -7.27421801e-05,\n         6.61206482e-04,  8.55296868e-04, -3.88434820e-04,\n        -1.90630220e-04,  1.46952925e-03,  3.20397690e-04,\n         1.76071335e-04],\n       [-9.99985695e-01,  4.99544243e-03, -7.27421801e-05,\n         6.61206482e-04,  8.55296868e-04, -3.88434820e-04,\n        -1.90630220e-04,  1.46952925e-03,  3.20397690e-04,\n         1.76071335e-04],\n       [-9.99985695e-01,  4.99544243e-03, -7.27421801e-05,\n         6.61206482e-04,  8.55296868e-04, -3.88434820e-04,\n        -1.90630220e-04,  1.46952925e-03,  3.20397690e-04,\n         1.76071335e-04],\n       [-9.99985695e-01,  4.99544243e-03, -7.27421801e-05,\n         6.61206482e-04,  8.55296868e-04, -3.88434820e-04,\n        -1.90630220e-04,  1.46952925e-03,  3.20397690e-04,\n         1.76071335e-04],\n       [-9.99985695e-01,  4.99544243e-03, -7.27421801e-05,\n         6.61206482e-04,  8.55296868e-04, -3.88434820e-04,\n        -1.90630220e-04,  1.46952925e-03,  3.20397690e-04,\n         1.76071335e-04],\n       [-9.99985695e-01,  4.99544243e-03, -7.27421801e-05,\n         6.61206482e-04,  8.55296868e-04, -3.88434820e-04,\n        -1.90630220e-04,  1.46952925e-03,  3.20397690e-04,\n         1.76071335e-04],\n       [-9.99985695e-01,  4.99544243e-03, -7.27421801e-05,\n         6.61206482e-04,  8.55296868e-04, -3.88434820e-04,\n        -1.90630220e-04,  1.46952925e-03,  3.20397690e-04,\n         1.76071335e-04],\n       [-9.99985695e-01,  4.99544243e-03, -7.27421801e-05,\n         6.61206482e-04,  8.55296868e-04, -3.88434820e-04,\n        -1.90630220e-04,  1.46952925e-03,  3.20397690e-04,\n         1.76071335e-04],\n       [-9.99985695e-01,  4.99544243e-03, -7.27421801e-05,\n         6.61206482e-04,  8.55296868e-04, -3.88434820e-04,\n        -1.90630220e-04,  1.46952925e-03,  3.20397690e-04,\n         1.76071335e-04],\n       [-9.99985695e-01,  4.99544243e-03, -7.27421801e-05,\n         6.61206482e-04,  8.55296868e-04, -3.88434820e-04,\n        -1.90630220e-04,  1.46952925e-03,  3.20397690e-04,\n         1.76071335e-04],\n       [-9.99985695e-01,  4.99544243e-03, -7.27421801e-05,\n         6.61206482e-04,  8.55296868e-04, -3.88434820e-04,\n        -1.90630220e-04,  1.46952925e-03,  3.20397690e-04,\n         1.76071335e-04],\n       [-9.99985695e-01,  4.99544243e-03, -7.27421801e-05,\n         6.61206482e-04,  8.55296868e-04, -3.88434820e-04,\n        -1.90630220e-04,  1.46952925e-03,  3.20397690e-04,\n         1.76071335e-04],\n       [-9.99985695e-01,  4.99544243e-03, -7.27421801e-05,\n         6.61206482e-04,  8.55296868e-04, -3.88434820e-04,\n        -1.90630220e-04,  1.46952925e-03,  3.20397690e-04,\n         1.76071335e-04],\n       [-9.99985695e-01,  4.99544243e-03, -7.27421801e-05,\n         6.61206482e-04,  8.55296868e-04, -3.88434820e-04,\n        -1.90630220e-04,  1.46952925e-03,  3.20397690e-04,\n         1.76071335e-04],\n       [-9.99985695e-01,  4.99544243e-03, -7.27421801e-05,\n         6.61206482e-04,  8.55296868e-04, -3.88434820e-04,\n        -1.90630220e-04,  1.46952925e-03,  3.20397690e-04,\n         1.76071335e-04],\n       [-9.99985695e-01,  4.99544243e-03, -7.27421801e-05,\n         6.61206482e-04,  8.55296868e-04, -3.88434820e-04,\n        -1.90630220e-04,  1.46952925e-03,  3.20397690e-04,\n         1.76071335e-04],\n       [-9.99985695e-01,  4.99544243e-03, -7.27421801e-05,\n         6.61206482e-04,  8.55296868e-04, -3.88434820e-04,\n        -1.90630220e-04,  1.46952925e-03,  3.20397690e-04,\n         1.76071335e-04],\n       [-9.99985695e-01,  4.99544243e-03, -7.27421801e-05,\n         6.61206482e-04,  8.55296868e-04, -3.88434820e-04,\n        -1.90630220e-04,  1.46952925e-03,  3.20397690e-04,\n         1.76071335e-04],\n       [-9.99985695e-01,  4.99544243e-03, -7.27421801e-05,\n         6.61206482e-04,  8.55296868e-04, -3.88434820e-04,\n        -1.90630220e-04,  1.46952925e-03,  3.20397690e-04,\n         1.76071335e-04],\n       [-9.99985695e-01,  4.99544243e-03, -7.27421801e-05,\n         6.61206482e-04,  8.55296868e-04, -3.88434820e-04,\n        -1.90630220e-04,  1.46952925e-03,  3.20397690e-04,\n         1.76071335e-04],\n       [-9.99985695e-01,  4.99544243e-03, -7.27421801e-05,\n         6.61206482e-04,  8.55296868e-04, -3.88434820e-04,\n        -1.90630220e-04,  1.46952925e-03,  3.20397690e-04,\n         1.76071335e-04],\n       [-9.99985695e-01,  4.99544243e-03, -7.27421801e-05,\n         6.61206482e-04,  8.55296868e-04, -3.88434820e-04,\n        -1.90630220e-04,  1.46952925e-03,  3.20397690e-04,\n         1.76071335e-04],\n       [-9.99985695e-01,  4.99544243e-03, -7.27421801e-05,\n         6.61206482e-04,  8.55296868e-04, -3.88434820e-04,\n        -1.90630220e-04,  1.46952925e-03,  3.20397690e-04,\n         1.76071335e-04],\n       [-9.99985695e-01,  4.99544243e-03, -7.27421801e-05,\n         6.61206482e-04,  8.55296868e-04, -3.88434820e-04,\n        -1.90630220e-04,  1.46952925e-03,  3.20397690e-04,\n         1.76071335e-04],\n       [-9.99985695e-01,  4.99544243e-03, -7.27421801e-05,\n         6.61206482e-04,  8.55296868e-04, -3.88434820e-04,\n        -1.90630220e-04,  1.46952925e-03,  3.20397690e-04,\n         1.76071335e-04],\n       [-9.99985695e-01,  4.99544243e-03, -7.27421801e-05,\n         6.61206482e-04,  8.55296868e-04, -3.88434820e-04,\n        -1.90630220e-04,  1.46952925e-03,  3.20397690e-04,\n         1.76071335e-04],\n       [-9.99985695e-01,  4.99544243e-03, -7.27421801e-05,\n         6.61206482e-04,  8.55296868e-04, -3.88434820e-04,\n        -1.90630220e-04,  1.46952925e-03,  3.20397690e-04,\n         1.76071335e-04],\n       [-9.99985695e-01,  4.99544243e-03, -7.27421801e-05,\n         6.61206482e-04,  8.55296868e-04, -3.88434820e-04,\n        -1.90630220e-04,  1.46952925e-03,  3.20397690e-04,\n         1.76071335e-04],\n       [-9.99985695e-01,  4.99544243e-03, -7.27421801e-05,\n         6.61206482e-04,  8.55296868e-04, -3.88434820e-04,\n        -1.90630220e-04,  1.46952925e-03,  3.20397690e-04,\n         1.76071335e-04],\n       [-9.99985695e-01,  4.99544243e-03, -7.27421801e-05,\n         6.61206482e-04,  8.55296868e-04, -3.88434820e-04,\n        -1.90630220e-04,  1.46952925e-03,  3.20397690e-04,\n         1.76071335e-04],\n       [-9.99985695e-01,  4.99544243e-03, -7.27421801e-05,\n         6.61206482e-04,  8.55296868e-04, -3.88434820e-04,\n        -1.90630220e-04,  1.46952925e-03,  3.20397690e-04,\n         1.76071335e-04],\n       [-9.99985695e-01,  4.99544243e-03, -7.27421801e-05,\n         6.61206482e-04,  8.55296868e-04, -3.88434820e-04,\n        -1.90630220e-04,  1.46952925e-03,  3.20397690e-04,\n         1.76071335e-04],\n       [-9.99985695e-01,  4.99544243e-03, -7.27421801e-05,\n         6.61206482e-04,  8.55296868e-04, -3.88434820e-04,\n        -1.90630220e-04,  1.46952925e-03,  3.20397690e-04,\n         1.76071335e-04],\n       [-9.99985695e-01,  4.99544243e-03, -7.27421801e-05,\n         6.61206482e-04,  8.55296868e-04, -3.88434820e-04,\n        -1.90630220e-04,  1.46952925e-03,  3.20397690e-04,\n         1.76071335e-04],\n       [-9.99985695e-01,  4.99544243e-03, -7.27421801e-05,\n         6.61206482e-04,  8.55296868e-04, -3.88434820e-04,\n        -1.90630220e-04,  1.46952925e-03,  3.20397690e-04,\n         1.76071335e-04],\n       [-9.99985695e-01,  4.99544243e-03, -7.27421801e-05,\n         6.61206482e-04,  8.55296868e-04, -3.88434820e-04,\n        -1.90630220e-04,  1.46952925e-03,  3.20397690e-04,\n         1.76071335e-04],\n       [-9.99985695e-01,  4.99544243e-03, -7.27421801e-05,\n         6.61206482e-04,  8.55296868e-04, -3.88434820e-04,\n        -1.90630220e-04,  1.46952925e-03,  3.20397690e-04,\n         1.76071335e-04],\n       [-9.99985695e-01,  4.99544243e-03, -7.27421801e-05,\n         6.61206482e-04,  8.55296868e-04, -3.88434820e-04,\n        -1.90630220e-04,  1.46952925e-03,  3.20397690e-04,\n         1.76071335e-04],\n       [-9.99985695e-01,  4.99544243e-03, -7.27421801e-05,\n         6.61206482e-04,  8.55296868e-04, -3.88434820e-04,\n        -1.90630220e-04,  1.46952925e-03,  3.20397690e-04,\n         1.76071335e-04],\n       [-9.99985695e-01,  4.99544243e-03, -7.27421801e-05,\n         6.61206482e-04,  8.55296868e-04, -3.88434820e-04,\n        -1.90630220e-04,  1.46952925e-03,  3.20397690e-04,\n         1.76071335e-04],\n       [-9.99985695e-01,  4.99544243e-03, -7.27421801e-05,\n         6.61206482e-04,  8.55296868e-04, -3.88434820e-04,\n        -1.90630220e-04,  1.46952925e-03,  3.20397690e-04,\n         1.76071335e-04],\n       [-9.99985695e-01,  4.99544243e-03, -7.27421801e-05,\n         6.61206482e-04,  8.55296868e-04, -3.88434820e-04,\n        -1.90630220e-04,  1.46952925e-03,  3.20397690e-04,\n         1.76071335e-04],\n       [-9.99985695e-01,  4.99544243e-03, -7.27421801e-05,\n         6.61206482e-04,  8.55296868e-04, -3.88434820e-04,\n        -1.90630220e-04,  1.46952925e-03,  3.20397690e-04,\n         1.76071335e-04],\n       [-9.99985695e-01,  4.99544243e-03, -7.27421801e-05,\n         6.61206482e-04,  8.55296868e-04, -3.88434820e-04,\n        -1.90630220e-04,  1.46952925e-03,  3.20397690e-04,\n         1.76071335e-04],\n       [-9.99985695e-01,  4.99544243e-03, -7.27421801e-05,\n         6.61206482e-04,  8.55296868e-04, -3.88434820e-04,\n        -1.90630220e-04,  1.46952925e-03,  3.20397690e-04,\n         1.76071335e-04],\n       [-9.99985695e-01,  4.99544243e-03, -7.27421801e-05,\n         6.61206482e-04,  8.55296868e-04, -3.88434820e-04,\n        -1.90630220e-04,  1.46952925e-03,  3.20397690e-04,\n         1.76071335e-04],\n       [-9.99985695e-01,  4.99544243e-03, -7.27421801e-05,\n         6.61206482e-04,  8.55296868e-04, -3.88434820e-04,\n        -1.90630220e-04,  1.46952925e-03,  3.20397690e-04,\n         1.76071335e-04],\n       [-9.99985695e-01,  4.99544243e-03, -7.27421801e-05,\n         6.61206482e-04,  8.55296868e-04, -3.88434820e-04,\n        -1.90630220e-04,  1.46952925e-03,  3.20397690e-04,\n         1.76071335e-04],\n       [-9.99985695e-01,  4.99544243e-03, -7.27421801e-05,\n         6.61206482e-04,  8.55296868e-04, -3.88434820e-04,\n        -1.90630220e-04,  1.46952925e-03,  3.20397690e-04,\n         1.76071335e-04]])"
     },
     "execution_count": 216,
     "metadata": {},
     "output_type": "execute_result"
    }
   ],
   "source": [
    "tca = TCA(kernel_type='linear', dim=10, lamb=1, gamma=1)\n",
    "Xs_new, Xt_new = tca.fit(Xs, Xt)\n",
    "Xt_new"
   ],
   "metadata": {
    "collapsed": false,
    "pycharm": {
     "name": "#%%\n"
    }
   }
  },
  {
   "cell_type": "code",
   "execution_count": 1,
   "outputs": [
    {
     "ename": "NameError",
     "evalue": "name 'Ys' is not defined",
     "output_type": "error",
     "traceback": [
      "\u001B[0;31m---------------------------------------------------------------------------\u001B[0m",
      "\u001B[0;31mNameError\u001B[0m                                 Traceback (most recent call last)",
      "\u001B[0;32m<ipython-input-1-e1bde105fd93>\u001B[0m in \u001B[0;36m<module>\u001B[0;34m\u001B[0m\n\u001B[0;32m----> 1\u001B[0;31m \u001B[0mYs\u001B[0m\u001B[0;34m\u001B[0m\u001B[0;34m\u001B[0m\u001B[0m\n\u001B[0m",
      "\u001B[0;31mNameError\u001B[0m: name 'Ys' is not defined"
     ]
    }
   ],
   "source": [
    "Ys"
   ],
   "metadata": {
    "collapsed": false,
    "pycharm": {
     "name": "#%%\n"
    }
   }
  },
  {
   "cell_type": "code",
   "execution_count": 188,
   "outputs": [
    {
     "name": "stdout",
     "output_type": "stream",
     "text": [
      "[0, 0, 0, 0, 0, 0, 0, 0, 0, 0, 0, 0, 0, 0, 0, 0, 0, 0, 0, 0, 0, 0, 0, 0, 0, 0, 0, 0, 0, 0, 0, 0, 0, 0, 0, 0, 0, 0, 0, 1, 0, 0, 0, 0, 0, 0, 0, 0, 1, 1, 0, 0, 0, 1, 0, 1, 1, 1, 0, 0]\n",
      "[0, 0, 0, 0, 0, 0, 0, 0, 0, 0, 0, 0, 0, 0, 0, 0, 0, 0, 0, 0, 0, 0, 0, 0, 0, 0, 0, 0, 0, 0, 0, 1, 1, 0, 0, 0, 0, 1, 0, 0, 1, 1, 1, 1, 1, 1, 1, 1, 1, 1, 1, 1, 1, 1, 1, 1, 1, 1, 1, 1]\n"
     ]
    }
   ],
   "source": [
    "print(list(ypre))\n",
    "print(list(data_target['Selected']))"
   ],
   "metadata": {
    "collapsed": false,
    "pycharm": {
     "name": "#%%\n"
    }
   }
  },
  {
   "cell_type": "code",
   "execution_count": 189,
   "outputs": [
    {
     "data": {
      "text/plain": "<Figure size 432x288 with 1 Axes>",
      "image/png": "[encoded data removed]"
     },
     "metadata": {
      "needs_background": "light"
     },
     "output_type": "display_data"
    }
   ],
   "source": [
    "data1 = data_target[data_target['Selected']==1]\n",
    "data2 = data_target[data_target['Selected']==0]\n",
    "import matplotlib.pyplot as plt\n",
    "plt.scatter(data1['Horsepower'], data1['Weight'],c='b')\n",
    "plt.scatter(data2['Horsepower'], data2['Weight'],c='g')\n",
    "plt.show()"
   ],
   "metadata": {
    "collapsed": false,
    "pycharm": {
     "name": "#%%\n"
    }
   }
  },
  {
   "cell_type": "code",
   "execution_count": 196,
   "outputs": [
    {
     "data": {
      "text/plain": "<Figure size 432x288 with 1 Axes>",
      "image/png": "[encoded data removed]"
     },
     "metadata": {
      "needs_background": "light"
     },
     "output_type": "display_data"
    }
   ],
   "source": [
    "data1 = data_target[ypre==1]\n",
    "data2 = data_target[ypre==0]\n",
    "import matplotlib.pyplot as plt\n",
    "plt.scatter(data1['Horsepower'], data1['Weight'],c='b')\n",
    "plt.scatter(data2['Horsepower'], data2['Weight'],c='g')\n",
    "plt.show()"
   ],
   "metadata": {
    "collapsed": false,
    "pycharm": {
     "name": "#%%\n"
    }
   }
  },
  {
   "cell_type": "code",
   "execution_count": 185,
   "outputs": [
    {
     "data": {
      "text/plain": "                              Model   MPG  Cylinders  Displacement  \\\n0      volkswagen 1131 deluxe sedan  26.0          4            97   \n1           volkswagen super beetle  26.0          4            97   \n2   volkswagen rabbit custom diesel  43.1          4            90   \n3              vw rabbit c (diesel)  44.3          4            90   \n4                vw dasher (diesel)  43.4          4            90   \n5                          fiat 128  29.0          4            68   \n6                         vw pickup  44.0          4            97   \n7                 volkswagen type 3  23.0          4            97   \n8                     renault 5 gtl  36.0          4            79   \n9              volkswagen model 111  27.0          4            97   \n10                 vokswagen rabbit  29.8          4            89   \n11                volkswagen dasher  26.0          4            79   \n12                        fiat x1.9  31.0          4            79   \n13              audi 5000s (diesel)  36.4          5           121   \n14               mercedes-benz 240d  30.0          4           146   \n15                  renault 12 (sw)  26.0          4            96   \n16               fiat strada custom  37.3          4            91   \n17                      peugeot 304  30.0          4            79   \n18                volkswagen rabbit  29.0          4            90   \n19                        vw rabbit  29.0          4            90   \n20              volkswagen scirocco  31.5          4            89   \n21                 vw rabbit custom  31.9          4            89   \n22                      peugeot 504  27.2          4           141   \n23                 volkswagen jetta  33.0          4           105   \n24              volkswagen rabbit l  36.0          4           105   \n25                       opel manta  24.0          4           116   \n26                      fiat 124 tc  26.0          4           116   \n27                        fiat 124b  30.0          4            88   \n28              volkswagen 411 (sw)  22.0          4           121   \n29                     volvo diesel  30.7          6           145   \n30               mercedes benz 300d  25.4          5           183   \n31         volkswagen rabbit custom  29.0          4            97   \n32                        audi 4000  34.3          4            97   \n33        peugeot 505s turbo diesel  28.1          4           141   \n34                        opel 1900  25.0          4           116   \n35                         audi fox  29.0          4            98   \n36                     renault 12tl  27.0          4           101   \n37                         fiat 131  28.0          4           107   \n38                 peugeot 504 (sw)  21.0          4           120   \n39                triumph tr7 coupe  35.0          4           122   \n40                      audi 100 ls  24.0          4           107   \n41             fiat 124 sport coupe  26.0          4            98   \n42                       audi 100ls  20.0          4           114   \n43                         saab 99e  25.0          4           104   \n44                      volvo 244dl  22.0          4           121   \n45                        volvo 245  20.0          4           130   \n46                        audi 5000  20.3          5           131   \n47                        saab 99le  24.0          4           121   \n48                         bmw 320i  21.5          4           121   \n49                  volvo 145e (sw)  18.0          4           121   \n50                      volvo 144ea  19.0          4           121   \n51                         bmw 2002  26.0          4           121   \n52                       saab 99gle  21.6          4           121   \n53               mercedes-benz 280s  16.5          6           168   \n54                      volvo 264gl  17.0          6           163   \n55                    peugeot 604sl  16.2          6           163   \n56                      renault 18i  34.5          4           100   \n\n    Horsepower  Weight  Acceleration  Year  Origin  Selected  \n0           46    1835          20.5  1970  Europe         0  \n1           46    1950          21.0  1973  Europe         0  \n2           48    1985          21.5  1978  Europe         0  \n3           48    2085          21.7  1980  Europe         0  \n4           48    2335          23.7  1980  Europe         0  \n5           49    1867          19.5  1973  Europe         0  \n6           52    2130          24.6  1982  Europe         0  \n7           54    2254          23.5  1972  Europe         0  \n8           58    1825          18.6  1977  Europe         0  \n9           60    1834          19.0  1971  Europe         0  \n10          62    1845          15.3  1980  Europe         0  \n11          67    1963          15.5  1974  Europe         0  \n12          67    2000          16.0  1974  Europe         0  \n13          67    2950          19.9  1980  Europe         1  \n14          67    3250          21.8  1980  Europe         1  \n15          69    2189          18.0  1972  Europe         0  \n16          69    2130          14.7  1979  Europe         0  \n17          70    2074          19.5  1971  Europe         0  \n18          70    1937          14.0  1975  Europe         0  \n19          70    1937          14.2  1976  Europe         0  \n20          71    1990          14.9  1978  Europe         0  \n21          71    1925          14.0  1979  Europe         0  \n22          71    3190          24.8  1979  Europe         1  \n23          74    2190          14.2  1981  Europe         0  \n24          74    1980          15.3  1982  Europe         0  \n25          75    2158          15.5  1973  Europe         0  \n26          75    2246          14.0  1974  Europe         0  \n27          76    2065          14.5  1971  Europe         0  \n28          76    2511          18.0  1972  Europe         0  \n29          76    3160          19.6  1981  Europe         1  \n30          77    3530          20.1  1979  Europe         1  \n31          78    1940          14.5  1977  Europe         0  \n32          78    2188          15.8  1980  Europe         0  \n33          80    3230          20.4  1981  Europe         1  \n34          81    2220          16.9  1976  Europe         0  \n35          83    2219          16.5  1974  Europe         0  \n36          83    2202          15.3  1976  Europe         0  \n37          86    2464          15.5  1976  Europe         0  \n38          87    2979          19.5  1972  Europe         1  \n39          88    2500          15.1  1980  Europe         0  \n40          90    2430          14.5  1970  Europe         0  \n41          90    2265          15.5  1973  Europe         0  \n42          91    2582          14.0  1973  Europe         0  \n43          95    2375          17.5  1970  Europe         0  \n44          98    2945          14.5  1975  Europe         1  \n45         102    3150          15.7  1976  Europe         1  \n46         103    2830          15.9  1978  Europe         1  \n47         110    2660          14.0  1973  Europe         0  \n48         110    2600          12.8  1977  Europe         0  \n49         112    2933          14.5  1972  Europe         1  \n50         112    2868          15.5  1973  Europe         1  \n51         113    2234          12.5  1970  Europe         0  \n52         115    2795          15.7  1978  Europe         0  \n53         120    3820          16.7  1976  Europe         1  \n54         125    3140          13.6  1978  Europe         1  \n55         133    3410          15.8  1978  Europe         1  \n56         113    2320          15.8  1981  Europe         0  ",
      "text/html": "<div>\n<style scoped>\n    .dataframe tbody tr th:only-of-type {\n        vertical-align: middle;\n    }\n\n    .dataframe tbody tr th {\n        vertical-align: top;\n    }\n\n    .dataframe thead th {\n        text-align: right;\n    }\n</style>\n<table border=\"1\" class=\"dataframe\">\n  <thead>\n    <tr style=\"text-align: right;\">\n      <th></th>\n      <th>Model</th>\n      <th>MPG</th>\n      <th>Cylinders</th>\n      <th>Displacement</th>\n      <th>Horsepower</th>\n      <th>Weight</th>\n      <th>Acceleration</th>\n      <th>Year</th>\n      <th>Origin</th>\n      <th>Selected</th>\n    </tr>\n  </thead>\n  <tbody>\n    <tr>\n      <th>0</th>\n      <td>volkswagen 1131 deluxe sedan</td>\n      <td>26.0</td>\n      <td>4</td>\n      <td>97</td>\n      <td>46</td>\n      <td>1835</td>\n      <td>20.5</td>\n      <td>1970</td>\n      <td>Europe</td>\n      <td>0</td>\n    </tr>\n    <tr>\n      <th>1</th>\n      <td>volkswagen super beetle</td>\n      <td>26.0</td>\n      <td>4</td>\n      <td>97</td>\n      <td>46</td>\n      <td>1950</td>\n      <td>21.0</td>\n      <td>1973</td>\n      <td>Europe</td>\n      <td>0</td>\n    </tr>\n    <tr>\n      <th>2</th>\n      <td>volkswagen rabbit custom diesel</td>\n      <td>43.1</td>\n      <td>4</td>\n      <td>90</td>\n      <td>48</td>\n      <td>1985</td>\n      <td>21.5</td>\n      <td>1978</td>\n      <td>Europe</td>\n      <td>0</td>\n    </tr>\n    <tr>\n      <th>3</th>\n      <td>vw rabbit c (diesel)</td>\n      <td>44.3</td>\n      <td>4</td>\n      <td>90</td>\n      <td>48</td>\n      <td>2085</td>\n      <td>21.7</td>\n      <td>1980</td>\n      <td>Europe</td>\n      <td>0</td>\n    </tr>\n    <tr>\n      <th>4</th>\n      <td>vw dasher (diesel)</td>\n      <td>43.4</td>\n      <td>4</td>\n      <td>90</td>\n      <td>48</td>\n      <td>2335</td>\n      <td>23.7</td>\n      <td>1980</td>\n      <td>Europe</td>\n      <td>0</td>\n    </tr>\n    <tr>\n      <th>5</th>\n      <td>fiat 128</td>\n      <td>29.0</td>\n      <td>4</td>\n      <td>68</td>\n      <td>49</td>\n      <td>1867</td>\n      <td>19.5</td>\n      <td>1973</td>\n      <td>Europe</td>\n      <td>0</td>\n    </tr>\n    <tr>\n      <th>6</th>\n      <td>vw pickup</td>\n      <td>44.0</td>\n      <td>4</td>\n      <td>97</td>\n      <td>52</td>\n      <td>2130</td>\n      <td>24.6</td>\n      <td>1982</td>\n      <td>Europe</td>\n      <td>0</td>\n    </tr>\n    <tr>\n      <th>7</th>\n      <td>volkswagen type 3</td>\n      <td>23.0</td>\n      <td>4</td>\n      <td>97</td>\n      <td>54</td>\n      <td>2254</td>\n      <td>23.5</td>\n      <td>1972</td>\n      <td>Europe</td>\n      <td>0</td>\n    </tr>\n    <tr>\n      <th>8</th>\n      <td>renault 5 gtl</td>\n      <td>36.0</td>\n      <td>4</td>\n      <td>79</td>\n      <td>58</td>\n      <td>1825</td>\n      <td>18.6</td>\n      <td>1977</td>\n      <td>Europe</td>\n      <td>0</td>\n    </tr>\n    <tr>\n      <th>9</th>\n      <td>volkswagen model 111</td>\n      <td>27.0</td>\n      <td>4</td>\n      <td>97</td>\n      <td>60</td>\n      <td>1834</td>\n      <td>19.0</td>\n      <td>1971</td>\n      <td>Europe</td>\n      <td>0</td>\n    </tr>\n    <tr>\n      <th>10</th>\n      <td>vokswagen rabbit</td>\n      <td>29.8</td>\n      <td>4</td>\n      <td>89</td>\n      <td>62</td>\n      <td>1845</td>\n      <td>15.3</td>\n      <td>1980</td>\n      <td>Europe</td>\n      <td>0</td>\n    </tr>\n    <tr>\n      <th>11</th>\n      <td>volkswagen dasher</td>\n      <td>26.0</td>\n      <td>4</td>\n      <td>79</td>\n      <td>67</td>\n      <td>1963</td>\n      <td>15.5</td>\n      <td>1974</td>\n      <td>Europe</td>\n      <td>0</td>\n    </tr>\n    <tr>\n      <th>12</th>\n      <td>fiat x1.9</td>\n      <td>31.0</td>\n      <td>4</td>\n      <td>79</td>\n      <td>67</td>\n      <td>2000</td>\n      <td>16.0</td>\n      <td>1974</td>\n      <td>Europe</td>\n      <td>0</td>\n    </tr>\n    <tr>\n      <th>13</th>\n      <td>audi 5000s (diesel)</td>\n      <td>36.4</td>\n      <td>5</td>\n      <td>121</td>\n      <td>67</td>\n      <td>2950</td>\n      <td>19.9</td>\n      <td>1980</td>\n      <td>Europe</td>\n      <td>1</td>\n    </tr>\n    <tr>\n      <th>14</th>\n      <td>mercedes-benz 240d</td>\n      <td>30.0</td>\n      <td>4</td>\n      <td>146</td>\n      <td>67</td>\n      <td>3250</td>\n      <td>21.8</td>\n      <td>1980</td>\n      <td>Europe</td>\n      <td>1</td>\n    </tr>\n    <tr>\n      <th>15</th>\n      <td>renault 12 (sw)</td>\n      <td>26.0</td>\n      <td>4</td>\n      <td>96</td>\n      <td>69</td>\n      <td>2189</td>\n      <td>18.0</td>\n      <td>1972</td>\n      <td>Europe</td>\n      <td>0</td>\n    </tr>\n    <tr>\n      <th>16</th>\n      <td>fiat strada custom</td>\n      <td>37.3</td>\n      <td>4</td>\n      <td>91</td>\n      <td>69</td>\n      <td>2130</td>\n      <td>14.7</td>\n      <td>1979</td>\n      <td>Europe</td>\n      <td>0</td>\n    </tr>\n    <tr>\n      <th>17</th>\n      <td>peugeot 304</td>\n      <td>30.0</td>\n      <td>4</td>\n      <td>79</td>\n      <td>70</td>\n      <td>2074</td>\n      <td>19.5</td>\n      <td>1971</td>\n      <td>Europe</td>\n      <td>0</td>\n    </tr>\n    <tr>\n      <th>18</th>\n      <td>volkswagen rabbit</td>\n      <td>29.0</td>\n      <td>4</td>\n      <td>90</td>\n      <td>70</td>\n      <td>1937</td>\n      <td>14.0</td>\n      <td>1975</td>\n      <td>Europe</td>\n      <td>0</td>\n    </tr>\n    <tr>\n      <th>19</th>\n      <td>vw rabbit</td>\n      <td>29.0</td>\n      <td>4</td>\n      <td>90</td>\n      <td>70</td>\n      <td>1937</td>\n      <td>14.2</td>\n      <td>1976</td>\n      <td>Europe</td>\n      <td>0</td>\n    </tr>\n    <tr>\n      <th>20</th>\n      <td>volkswagen scirocco</td>\n      <td>31.5</td>\n      <td>4</td>\n      <td>89</td>\n      <td>71</td>\n      <td>1990</td>\n      <td>14.9</td>\n      <td>1978</td>\n      <td>Europe</td>\n      <td>0</td>\n    </tr>\n    <tr>\n      <th>21</th>\n      <td>vw rabbit custom</td>\n      <td>31.9</td>\n      <td>4</td>\n      <td>89</td>\n      <td>71</td>\n      <td>1925</td>\n      <td>14.0</td>\n      <td>1979</td>\n      <td>Europe</td>\n      <td>0</td>\n    </tr>\n    <tr>\n      <th>22</th>\n      <td>peugeot 504</td>\n      <td>27.2</td>\n      <td>4</td>\n      <td>141</td>\n      <td>71</td>\n      <td>3190</td>\n      <td>24.8</td>\n      <td>1979</td>\n      <td>Europe</td>\n      <td>1</td>\n    </tr>\n    <tr>\n      <th>23</th>\n      <td>volkswagen jetta</td>\n      <td>33.0</td>\n      <td>4</td>\n      <td>105</td>\n      <td>74</td>\n      <td>2190</td>\n      <td>14.2</td>\n      <td>1981</td>\n      <td>Europe</td>\n      <td>0</td>\n    </tr>\n    <tr>\n      <th>24</th>\n      <td>volkswagen rabbit l</td>\n      <td>36.0</td>\n      <td>4</td>\n      <td>105</td>\n      <td>74</td>\n      <td>1980</td>\n      <td>15.3</td>\n      <td>1982</td>\n      <td>Europe</td>\n      <td>0</td>\n    </tr>\n    <tr>\n      <th>25</th>\n      <td>opel manta</td>\n      <td>24.0</td>\n      <td>4</td>\n      <td>116</td>\n      <td>75</td>\n      <td>2158</td>\n      <td>15.5</td>\n      <td>1973</td>\n      <td>Europe</td>\n      <td>0</td>\n    </tr>\n    <tr>\n      <th>26</th>\n      <td>fiat 124 tc</td>\n      <td>26.0</td>\n      <td>4</td>\n      <td>116</td>\n      <td>75</td>\n      <td>2246</td>\n      <td>14.0</td>\n      <td>1974</td>\n      <td>Europe</td>\n      <td>0</td>\n    </tr>\n    <tr>\n      <th>27</th>\n      <td>fiat 124b</td>\n      <td>30.0</td>\n      <td>4</td>\n      <td>88</td>\n      <td>76</td>\n      <td>2065</td>\n      <td>14.5</td>\n      <td>1971</td>\n      <td>Europe</td>\n      <td>0</td>\n    </tr>\n    <tr>\n      <th>28</th>\n      <td>volkswagen 411 (sw)</td>\n      <td>22.0</td>\n      <td>4</td>\n      <td>121</td>\n      <td>76</td>\n      <td>2511</td>\n      <td>18.0</td>\n      <td>1972</td>\n      <td>Europe</td>\n      <td>0</td>\n    </tr>\n    <tr>\n      <th>29</th>\n      <td>volvo diesel</td>\n      <td>30.7</td>\n      <td>6</td>\n      <td>145</td>\n      <td>76</td>\n      <td>3160</td>\n      <td>19.6</td>\n      <td>1981</td>\n      <td>Europe</td>\n      <td>1</td>\n    </tr>\n    <tr>\n      <th>30</th>\n      <td>mercedes benz 300d</td>\n      <td>25.4</td>\n      <td>5</td>\n      <td>183</td>\n      <td>77</td>\n      <td>3530</td>\n      <td>20.1</td>\n      <td>1979</td>\n      <td>Europe</td>\n      <td>1</td>\n    </tr>\n    <tr>\n      <th>31</th>\n      <td>volkswagen rabbit custom</td>\n      <td>29.0</td>\n      <td>4</td>\n      <td>97</td>\n      <td>78</td>\n      <td>1940</td>\n      <td>14.5</td>\n      <td>1977</td>\n      <td>Europe</td>\n      <td>0</td>\n    </tr>\n    <tr>\n      <th>32</th>\n      <td>audi 4000</td>\n      <td>34.3</td>\n      <td>4</td>\n      <td>97</td>\n      <td>78</td>\n      <td>2188</td>\n      <td>15.8</td>\n      <td>1980</td>\n      <td>Europe</td>\n      <td>0</td>\n    </tr>\n    <tr>\n      <th>33</th>\n      <td>peugeot 505s turbo diesel</td>\n      <td>28.1</td>\n      <td>4</td>\n      <td>141</td>\n      <td>80</td>\n      <td>3230</td>\n      <td>20.4</td>\n      <td>1981</td>\n      <td>Europe</td>\n      <td>1</td>\n    </tr>\n    <tr>\n      <th>34</th>\n      <td>opel 1900</td>\n      <td>25.0</td>\n      <td>4</td>\n      <td>116</td>\n      <td>81</td>\n      <td>2220</td>\n      <td>16.9</td>\n      <td>1976</td>\n      <td>Europe</td>\n      <td>0</td>\n    </tr>\n    <tr>\n      <th>35</th>\n      <td>audi fox</td>\n      <td>29.0</td>\n      <td>4</td>\n      <td>98</td>\n      <td>83</td>\n      <td>2219</td>\n      <td>16.5</td>\n      <td>1974</td>\n      <td>Europe</td>\n      <td>0</td>\n    </tr>\n    <tr>\n      <th>36</th>\n      <td>renault 12tl</td>\n      <td>27.0</td>\n      <td>4</td>\n      <td>101</td>\n      <td>83</td>\n      <td>2202</td>\n      <td>15.3</td>\n      <td>1976</td>\n      <td>Europe</td>\n      <td>0</td>\n    </tr>\n    <tr>\n      <th>37</th>\n      <td>fiat 131</td>\n      <td>28.0</td>\n      <td>4</td>\n      <td>107</td>\n      <td>86</td>\n      <td>2464</td>\n      <td>15.5</td>\n      <td>1976</td>\n      <td>Europe</td>\n      <td>0</td>\n    </tr>\n    <tr>\n      <th>38</th>\n      <td>peugeot 504 (sw)</td>\n      <td>21.0</td>\n      <td>4</td>\n      <td>120</td>\n      <td>87</td>\n      <td>2979</td>\n      <td>19.5</td>\n      <td>1972</td>\n      <td>Europe</td>\n      <td>1</td>\n    </tr>\n    <tr>\n      <th>39</th>\n      <td>triumph tr7 coupe</td>\n      <td>35.0</td>\n      <td>4</td>\n      <td>122</td>\n      <td>88</td>\n      <td>2500</td>\n      <td>15.1</td>\n      <td>1980</td>\n      <td>Europe</td>\n      <td>0</td>\n    </tr>\n    <tr>\n      <th>40</th>\n      <td>audi 100 ls</td>\n      <td>24.0</td>\n      <td>4</td>\n      <td>107</td>\n      <td>90</td>\n      <td>2430</td>\n      <td>14.5</td>\n      <td>1970</td>\n      <td>Europe</td>\n      <td>0</td>\n    </tr>\n    <tr>\n      <th>41</th>\n      <td>fiat 124 sport coupe</td>\n      <td>26.0</td>\n      <td>4</td>\n      <td>98</td>\n      <td>90</td>\n      <td>2265</td>\n      <td>15.5</td>\n      <td>1973</td>\n      <td>Europe</td>\n      <td>0</td>\n    </tr>\n    <tr>\n      <th>42</th>\n      <td>audi 100ls</td>\n      <td>20.0</td>\n      <td>4</td>\n      <td>114</td>\n      <td>91</td>\n      <td>2582</td>\n      <td>14.0</td>\n      <td>1973</td>\n      <td>Europe</td>\n      <td>0</td>\n    </tr>\n    <tr>\n      <th>43</th>\n      <td>saab 99e</td>\n      <td>25.0</td>\n      <td>4</td>\n      <td>104</td>\n      <td>95</td>\n      <td>2375</td>\n      <td>17.5</td>\n      <td>1970</td>\n      <td>Europe</td>\n      <td>0</td>\n    </tr>\n    <tr>\n      <th>44</th>\n      <td>volvo 244dl</td>\n      <td>22.0</td>\n      <td>4</td>\n      <td>121</td>\n      <td>98</td>\n      <td>2945</td>\n      <td>14.5</td>\n      <td>1975</td>\n      <td>Europe</td>\n      <td>1</td>\n    </tr>\n    <tr>\n      <th>45</th>\n      <td>volvo 245</td>\n      <td>20.0</td>\n      <td>4</td>\n      <td>130</td>\n      <td>102</td>\n      <td>3150</td>\n      <td>15.7</td>\n      <td>1976</td>\n      <td>Europe</td>\n      <td>1</td>\n    </tr>\n    <tr>\n      <th>46</th>\n      <td>audi 5000</td>\n      <td>20.3</td>\n      <td>5</td>\n      <td>131</td>\n      <td>103</td>\n      <td>2830</td>\n      <td>15.9</td>\n      <td>1978</td>\n      <td>Europe</td>\n      <td>1</td>\n    </tr>\n    <tr>\n      <th>47</th>\n      <td>saab 99le</td>\n      <td>24.0</td>\n      <td>4</td>\n      <td>121</td>\n      <td>110</td>\n      <td>2660</td>\n      <td>14.0</td>\n      <td>1973</td>\n      <td>Europe</td>\n      <td>0</td>\n    </tr>\n    <tr>\n      <th>48</th>\n      <td>bmw 320i</td>\n      <td>21.5</td>\n      <td>4</td>\n      <td>121</td>\n      <td>110</td>\n      <td>2600</td>\n      <td>12.8</td>\n      <td>1977</td>\n      <td>Europe</td>\n      <td>0</td>\n    </tr>\n    <tr>\n      <th>49</th>\n      <td>volvo 145e (sw)</td>\n      <td>18.0</td>\n      <td>4</td>\n      <td>121</td>\n      <td>112</td>\n      <td>2933</td>\n      <td>14.5</td>\n      <td>1972</td>\n      <td>Europe</td>\n      <td>1</td>\n    </tr>\n    <tr>\n      <th>50</th>\n      <td>volvo 144ea</td>\n      <td>19.0</td>\n      <td>4</td>\n      <td>121</td>\n      <td>112</td>\n      <td>2868</td>\n      <td>15.5</td>\n      <td>1973</td>\n      <td>Europe</td>\n      <td>1</td>\n    </tr>\n    <tr>\n      <th>51</th>\n      <td>bmw 2002</td>\n      <td>26.0</td>\n      <td>4</td>\n      <td>121</td>\n      <td>113</td>\n      <td>2234</td>\n      <td>12.5</td>\n      <td>1970</td>\n      <td>Europe</td>\n      <td>0</td>\n    </tr>\n    <tr>\n      <th>52</th>\n      <td>saab 99gle</td>\n      <td>21.6</td>\n      <td>4</td>\n      <td>121</td>\n      <td>115</td>\n      <td>2795</td>\n      <td>15.7</td>\n      <td>1978</td>\n      <td>Europe</td>\n      <td>0</td>\n    </tr>\n    <tr>\n      <th>53</th>\n      <td>mercedes-benz 280s</td>\n      <td>16.5</td>\n      <td>6</td>\n      <td>168</td>\n      <td>120</td>\n      <td>3820</td>\n      <td>16.7</td>\n      <td>1976</td>\n      <td>Europe</td>\n      <td>1</td>\n    </tr>\n    <tr>\n      <th>54</th>\n      <td>volvo 264gl</td>\n      <td>17.0</td>\n      <td>6</td>\n      <td>163</td>\n      <td>125</td>\n      <td>3140</td>\n      <td>13.6</td>\n      <td>1978</td>\n      <td>Europe</td>\n      <td>1</td>\n    </tr>\n    <tr>\n      <th>55</th>\n      <td>peugeot 604sl</td>\n      <td>16.2</td>\n      <td>6</td>\n      <td>163</td>\n      <td>133</td>\n      <td>3410</td>\n      <td>15.8</td>\n      <td>1978</td>\n      <td>Europe</td>\n      <td>1</td>\n    </tr>\n    <tr>\n      <th>56</th>\n      <td>renault 18i</td>\n      <td>34.5</td>\n      <td>4</td>\n      <td>100</td>\n      <td>113</td>\n      <td>2320</td>\n      <td>15.8</td>\n      <td>1981</td>\n      <td>Europe</td>\n      <td>0</td>\n    </tr>\n  </tbody>\n</table>\n</div>"
     },
     "execution_count": 185,
     "metadata": {},
     "output_type": "execute_result"
    }
   ],
   "source": [
    "data_source"
   ],
   "metadata": {
    "collapsed": false,
    "pycharm": {
     "name": "#%%\n"
    }
   }
  },
  {
   "cell_type": "markdown",
   "source": [
    "\n",
    "\n",
    "\n",
    "\n",
    "\n",
    "\n",
    "Try another dataset"
   ],
   "metadata": {
    "collapsed": false,
    "pycharm": {
     "name": "#%% md\n"
    }
   }
  },
  {
   "cell_type": "code",
   "execution_count": null,
   "outputs": [],
   "source": [],
   "metadata": {
    "collapsed": false,
    "pycharm": {
     "name": "#%%\n"
    }
   }
  }
 ],
 "metadata": {
  "colab": {
   "name": "Traditional_transfer_learning.ipynb",
   "provenance": [],
   "toc_visible": true
  },
  "kernelspec": {
   "display_name": "Python 3",
   "language": "python",
   "name": "python3"
  },
  "language_info": {
   "codemirror_mode": {
    "name": "ipython",
    "version": 3
   },
   "file_extension": ".py",
   "mimetype": "text/x-python",
   "name": "python",
   "nbconvert_exporter": "python",
   "pygments_lexer": "ipython3",
   "version": "3.9.7"
  }
 },
 "nbformat": 4,
 "nbformat_minor": 0
}