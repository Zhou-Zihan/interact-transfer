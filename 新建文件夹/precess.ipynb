{
 "cells": [
  {
   "cell_type": "code",
   "execution_count": 2,
   "metadata": {},
   "outputs": [],
   "source": [
    "import pandas as pd\n",
    "\n",
    "data_source = pd.read_csv('./car-euro-edited.csv', header=0)\n",
    "data_target = pd.read_csv('./car-japan-edited.csv', header=0)"
   ]
  },
  {
   "cell_type": "code",
   "execution_count": null,
   "metadata": {},
   "outputs": [],
   "source": [
    "import os\n",
    "\n",
    "import numpy as np\n",
    "import pandas as pd\n",
    "import torch\n",
    "from torchvision import datasets\n",
    "from torchvision.transforms import ToTensor\n",
    "from alexnet_pytorch import AlexNet\n",
    "\n",
    "torch.multiprocessing.set_sharing_strategy('file_system')\n",
    "\n",
    "model = AlexNet.from_pretrained('alexnet')\n",
    "\n",
    "def transform(img):\n",
    "    img = img.resize((224, 224)).convert('RGB')\n",
    "    tensor = ToTensor()(img)\n",
    "    return tensor\n",
    "\n",
    "train_data = datasets.MNIST(\n",
    "    root = 'data',\n",
    "    train = True,\n",
    "    transform = transform,\n",
    ")\n",
    "\n",
    "data_loader = torch.utils.data.DataLoader(train_data,\n",
    "                                          batch_size=128,\n",
    "                                          shuffle=True,\n",
    "                                          num_workers=1)\n",
    "\n",
    "count = 0\n",
    "output_path = 'data/preprocessed_train.csv'\n",
    "os.remove(output_path)\n",
    "for batch, digit in data_loader:\n",
    "    data = []\n",
    "    label = []\n",
    "    for idx, img in enumerate(batch):\n",
    "        features = model.extract_features(img.reshape((1, 3, 224, 224)))\n",
    "        data.append(features.detach().numpy().reshape((256 * 6 * 6)))\n",
    "        label.append(digit[idx].item())\n",
    "    dtf = pd.DataFrame(data=data)\n",
    "    label_dtf = pd.DataFrame(data=label, columns=['digit'])\n",
    "    full = pd.concat([dtf, label_dtf], axis=1)\n",
    "    print('label', full.digit.unique())\n",
    "    full.to_csv(output_path, mode='a',\n",
    "                header=not os.path.exists(output_path), index=False)\n",
    "\n",
    "    count += 1\n",
    "    print(count)"
   ]
  },
  {
   "cell_type": "code",
   "execution_count": null,
   "metadata": {},
   "outputs": [],
   "source": [
    "import pandas as pd\n",
    "import xgboost as xgb\n",
    "import joblib\n",
    "\n",
    "\n",
    "dtf = pd.read_csv('data/preprocessed_10000.csv')\n",
    "features = dtf.columns[~dtf.columns.isin(['digit'])]\n",
    "# keep only feature columns\n",
    "\n",
    "model = xgb.XGBClassifier()\n",
    "\n",
    "# Train using features and labels\n",
    "model.fit(dtf[features], dtf['digit'])\n",
    "\n",
    "# store model for further use\n",
    "joblib.dump(model, 'data/model.pkl')\n",
    "\n",
    "# Evaluate model\n",
    "dtf_test = pd.read_csv('data/preprocessed_test.csv')\n",
    "preds = model.predict(dtf_test[features])\n",
    "\n",
    "print(list(dtf_test['digit'][:20]))\n",
    "# > [1, 7, 8, 6, 7, 1, 1, 2, 7, 7, 1, 6, 0, 7, 5, 2, 2, 0, 7, 3]\n",
    "print(list(preds[:20]))\n",
    "# > [1, 7, 8, 6, 7, 1, 1, 2, 7, 7, 1, 6, 0, 7, 5, 2, 2, 0, 7, 3]"
   ]
  },
  {
   "cell_type": "markdown",
   "metadata": {},
   "source": [
    "Try using xgboost"
   ]
  },
  {
   "cell_type": "code",
   "execution_count": 3,
   "metadata": {},
   "outputs": [],
   "source": [
    "features = data_source[['Weight','Horsepower']]\n",
    "labels = data_source[['Selected']]"
   ]
  },
  {
   "cell_type": "code",
   "execution_count": 4,
   "metadata": {},
   "outputs": [
    {
     "data": {
      "text/plain": "['testmodel.pkl']"
     },
     "execution_count": 4,
     "metadata": {},
     "output_type": "execute_result"
    }
   ],
   "source": [
    "import pandas as pd\n",
    "import xgboost as xgb\n",
    "import joblib\n",
    "\n",
    "model = xgb.XGBClassifier()\n",
    "\n",
    "# Train using features and labels\n",
    "model.fit(features, labels)\n",
    "\n",
    "# store model for further use\n",
    "joblib.dump(model, 'testmodel.pkl')"
   ]
  },
  {
   "cell_type": "code",
   "execution_count": 5,
   "metadata": {},
   "outputs": [
    {
     "name": "stdout",
     "output_type": "stream",
     "text": [
      "[0, 0, 0, 0, 0, 0, 0, 0, 0, 0, 0, 0, 0, 0, 0, 0, 0, 0, 0, 0, 0, 0, 0, 0, 0, 0, 0, 0, 0, 0, 0, 0, 0, 0, 0, 0, 0, 0, 0, 0, 0, 0, 0, 0, 0, 0, 0, 0, 0, 0, 1, 0, 0, 0, 0, 1, 0, 1, 1, 1]\n",
      "[0, 0, 0, 0, 0, 0, 0, 0, 0, 0, 0, 0, 0, 0, 0, 0, 0, 0, 0, 0, 0, 0, 0, 0, 0, 0, 0, 0, 0, 0, 0, 1, 1, 0, 0, 0, 0, 1, 0, 0, 1, 1, 1, 1, 1, 1, 1, 1, 1, 1, 1, 1, 1, 1, 1, 1, 1, 1, 1, 1]\n"
     ]
    }
   ],
   "source": [
    "# Evaluate model\n",
    "target_feature = data_target[['Weight','Horsepower']]\n",
    "\n",
    "preds = model.predict(target_feature)\n",
    "\n",
    "print(list(preds))\n",
    "print(list(data_target['Selected']))"
   ]
  },
  {
   "cell_type": "code",
   "execution_count": 6,
   "outputs": [
    {
     "data": {
      "text/plain": "<Figure size 432x288 with 1 Axes>",
      "image/png": "[encoded data removed]"
     },
     "metadata": {
      "needs_background": "light"
     },
     "output_type": "display_data"
    }
   ],
   "source": [
    "data1 = data_target[data_target['Selected']==1]\n",
    "data2 = data_target[data_target['Selected']==0]\n",
    "import matplotlib.pyplot as plt\n",
    "plt.scatter(data1['Horsepower'], data1['Weight'],c='b')\n",
    "plt.scatter(data2['Horsepower'], data2['Weight'],c='g')\n",
    "plt.show()"
   ],
   "metadata": {
    "collapsed": false,
    "pycharm": {
     "name": "#%%\n"
    }
   }
  },
  {
   "cell_type": "code",
   "execution_count": 7,
   "outputs": [
    {
     "data": {
      "text/plain": "<Figure size 432x288 with 1 Axes>",
      "image/png": "[encoded data removed]"
     },
     "metadata": {
      "needs_background": "light"
     },
     "output_type": "display_data"
    }
   ],
   "source": [
    "data1 = data_target[preds==1]\n",
    "data2 = data_target[preds==0]\n",
    "import matplotlib.pyplot as plt\n",
    "plt.scatter(data1['Horsepower'], data1['Weight'],c='b')\n",
    "plt.scatter(data2['Horsepower'], data2['Weight'],c='g')\n",
    "plt.show()"
   ],
   "metadata": {
    "collapsed": false,
    "pycharm": {
     "name": "#%%\n"
    }
   }
  },
  {
   "cell_type": "code",
   "execution_count": 8,
   "outputs": [
    {
     "data": {
      "text/plain": "                Model   MPG  Cylinders  Displacement  Horsepower  Weight  \\\n50         datsun 810  22.0          6           146          97    2815   \n55     toyota mark ii  19.0          6           156         108    2930   \n57    toyota cressida  25.4          6           168         116    2900   \n58  datsun 810 maxima  24.2          6           146         120    2930   \n59      datsun 280-zx  32.7          6           168         132    2910   \n\n    Acceleration  Year Origin  Selected  \n50          14.5  1977  Japan         1  \n55          15.5  1976  Japan         1  \n57          12.6  1981  Japan         1  \n58          13.8  1981  Japan         1  \n59          11.4  1980  Japan         1  ",
      "text/html": "<div>\n<style scoped>\n    .dataframe tbody tr th:only-of-type {\n        vertical-align: middle;\n    }\n\n    .dataframe tbody tr th {\n        vertical-align: top;\n    }\n\n    .dataframe thead th {\n        text-align: right;\n    }\n</style>\n<table border=\"1\" class=\"dataframe\">\n  <thead>\n    <tr style=\"text-align: right;\">\n      <th></th>\n      <th>Model</th>\n      <th>MPG</th>\n      <th>Cylinders</th>\n      <th>Displacement</th>\n      <th>Horsepower</th>\n      <th>Weight</th>\n      <th>Acceleration</th>\n      <th>Year</th>\n      <th>Origin</th>\n      <th>Selected</th>\n    </tr>\n  </thead>\n  <tbody>\n    <tr>\n      <th>50</th>\n      <td>datsun 810</td>\n      <td>22.0</td>\n      <td>6</td>\n      <td>146</td>\n      <td>97</td>\n      <td>2815</td>\n      <td>14.5</td>\n      <td>1977</td>\n      <td>Japan</td>\n      <td>1</td>\n    </tr>\n    <tr>\n      <th>55</th>\n      <td>toyota mark ii</td>\n      <td>19.0</td>\n      <td>6</td>\n      <td>156</td>\n      <td>108</td>\n      <td>2930</td>\n      <td>15.5</td>\n      <td>1976</td>\n      <td>Japan</td>\n      <td>1</td>\n    </tr>\n    <tr>\n      <th>57</th>\n      <td>toyota cressida</td>\n      <td>25.4</td>\n      <td>6</td>\n      <td>168</td>\n      <td>116</td>\n      <td>2900</td>\n      <td>12.6</td>\n      <td>1981</td>\n      <td>Japan</td>\n      <td>1</td>\n    </tr>\n    <tr>\n      <th>58</th>\n      <td>datsun 810 maxima</td>\n      <td>24.2</td>\n      <td>6</td>\n      <td>146</td>\n      <td>120</td>\n      <td>2930</td>\n      <td>13.8</td>\n      <td>1981</td>\n      <td>Japan</td>\n      <td>1</td>\n    </tr>\n    <tr>\n      <th>59</th>\n      <td>datsun 280-zx</td>\n      <td>32.7</td>\n      <td>6</td>\n      <td>168</td>\n      <td>132</td>\n      <td>2910</td>\n      <td>11.4</td>\n      <td>1980</td>\n      <td>Japan</td>\n      <td>1</td>\n    </tr>\n  </tbody>\n</table>\n</div>"
     },
     "execution_count": 8,
     "metadata": {},
     "output_type": "execute_result"
    }
   ],
   "source": [
    "data1"
   ],
   "metadata": {
    "collapsed": false,
    "pycharm": {
     "name": "#%%\n"
    }
   }
  },
  {
   "cell_type": "code",
   "execution_count": null,
   "outputs": [],
   "source": [],
   "metadata": {
    "collapsed": false,
    "pycharm": {
     "name": "#%%\n"
    }
   }
  }
 ],
 "metadata": {
  "kernelspec": {
   "display_name": "Python 3.9.7 ('base')",
   "language": "python",
   "name": "python3"
  },
  "language_info": {
   "codemirror_mode": {
    "name": "ipython",
    "version": 3
   },
   "file_extension": ".py",
   "mimetype": "text/x-python",
   "name": "python",
   "nbconvert_exporter": "python",
   "pygments_lexer": "ipython3",
   "version": "3.9.7"
  },
  "orig_nbformat": 4,
  "vscode": {
   "interpreter": {
    "hash": "f8b40d688a12481f01eadf7380c47edd8a49484a47dba3db091451640e880c68"
   }
  }
 },
 "nbformat": 4,
 "nbformat_minor": 2
}