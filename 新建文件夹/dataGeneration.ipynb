{
 "cells": [
  {
   "cell_type": "markdown",
   "source": [
    "categories"
   ],
   "metadata": {
    "collapsed": false
   }
  },
  {
   "cell_type": "code",
   "execution_count": null,
   "metadata": {
    "collapsed": true
   },
   "outputs": [],
   "source": []
  },
  {
   "cell_type": "markdown",
   "source": [
    "clusters"
   ],
   "metadata": {
    "collapsed": false
   }
  },
  {
   "cell_type": "code",
   "execution_count": 10,
   "outputs": [],
   "source": [
    "import matplotlib.pyplot as plt\n",
    "import scipy.io\n",
    "from sklearn import cluster, datasets\n",
    "n_samples = 1500\n",
    "noisy_circles = datasets.make_circles(n_samples=n_samples, factor=.5, noise=.05)\n",
    "noisy_circles1 = datasets.make_circles(n_samples=n_samples, factor=.2, noise=.05)\n",
    "scipy.io.savemat('./dataset/synthetic/clusters/circleCluster.mat', mdict={'Xs':noisy_circles[0], 'Ys':noisy_circles[1], 'Xt':noisy_circles1[0], 'Yt':noisy_circles1[1]})"
   ],
   "metadata": {
    "collapsed": false,
    "pycharm": {
     "name": "#%%\n"
    }
   }
  },
  {
   "cell_type": "code",
   "execution_count": 15,
   "outputs": [],
   "source": [
    "noisy_moons = datasets.make_moons(n_samples=n_samples, noise=.05)\n",
    "noisy_moons1 = datasets.make_moons(n_samples=n_samples, noise=.2)\n",
    "scipy.io.savemat('./dataset/synthetic/clusters/moonCluster.mat', mdict={'Xs':noisy_moons[0], 'Ys':noisy_moons[1], 'Xt':noisy_moons1[0], 'Yt':noisy_moons1[1]})"
   ],
   "metadata": {
    "collapsed": false,
    "pycharm": {
     "name": "#%%\n"
    }
   }
  },
  {
   "cell_type": "code",
   "execution_count": 23,
   "outputs": [],
   "source": [
    "blobs = datasets.make_blobs(n_samples=n_samples,n_features=5 , random_state=8)\n",
    "blobs1 = datasets.make_blobs(n_samples=n_samples,n_features=10 , random_state=3)\n",
    "scipy.io.savemat('./dataset/synthetic/clusters/blobCluster.mat', mdict={'Xs':blobs[0], 'Ys':blobs[1], 'Xt':blobs1[0], 'Yt':blobs1[1]})"
   ],
   "metadata": {
    "collapsed": false,
    "pycharm": {
     "name": "#%%\n"
    }
   }
  },
  {
   "cell_type": "markdown",
   "source": [
    "correlation"
   ],
   "metadata": {
    "collapsed": false,
    "pycharm": {
     "name": "#%% md\n"
    }
   }
  },
  {
   "cell_type": "code",
   "execution_count": null,
   "outputs": [],
   "source": [],
   "metadata": {
    "collapsed": false,
    "pycharm": {
     "name": "#%%\n"
    }
   }
  },
  {
   "cell_type": "markdown",
   "source": [
    "multi-optimization"
   ],
   "metadata": {
    "collapsed": false
   }
  },
  {
   "cell_type": "code",
   "execution_count": null,
   "outputs": [],
   "source": [],
   "metadata": {
    "collapsed": false,
    "pycharm": {
     "name": "#%%\n"
    }
   }
  },
  {
   "cell_type": "markdown",
   "source": [
    "outliers"
   ],
   "metadata": {
    "collapsed": false
   }
  },
  {
   "cell_type": "code",
   "execution_count": null,
   "outputs": [],
   "source": [],
   "metadata": {
    "collapsed": false,
    "pycharm": {
     "name": "#%%\n"
    }
   }
  },
  {
   "cell_type": "markdown",
   "source": [
    "range"
   ],
   "metadata": {
    "collapsed": false
   }
  }
 ],
 "metadata": {
  "kernelspec": {
   "display_name": "Python 3",
   "language": "python",
   "name": "python3"
  },
  "language_info": {
   "codemirror_mode": {
    "name": "ipython",
    "version": 2
   },
   "file_extension": ".py",
   "mimetype": "text/x-python",
   "name": "python",
   "nbconvert_exporter": "python",
   "pygments_lexer": "ipython2",
   "version": "2.7.6"
  }
 },
 "nbformat": 4,
 "nbformat_minor": 0
}